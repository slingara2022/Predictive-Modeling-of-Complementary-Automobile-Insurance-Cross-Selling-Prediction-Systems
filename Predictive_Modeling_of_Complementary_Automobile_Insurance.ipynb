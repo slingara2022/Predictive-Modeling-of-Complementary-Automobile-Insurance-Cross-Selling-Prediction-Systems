{
  "nbformat": 4,
  "nbformat_minor": 5,
  "metadata": {
    "colab": {
      "name": "Submission.ipynb",
      "provenance": [],
      "collapsed_sections": []
    },
    "kernelspec": {
      "display_name": "Python 3",
      "language": "python",
      "name": "python3"
    },
    "language_info": {
      "codemirror_mode": {
        "name": "ipython",
        "version": 3
      },
      "file_extension": ".py",
      "mimetype": "text/x-python",
      "name": "python",
      "nbconvert_exporter": "python",
      "pygments_lexer": "ipython3",
      "version": "3.8.8"
    }
  },
  "cells": [
    {
      "cell_type": "markdown",
      "metadata": {
        "id": "1451fb0c"
      },
      "source": [
        "## Introduction"
      ],
      "id": "1451fb0c"
    },
    {
      "cell_type": "markdown",
      "metadata": {
        "id": "AKSDdaixYFhf"
      },
      "source": [
        "An insurance company is looking to expand their product selection. They are currently providing health insurance to their policyholders but now want to gauge interest on vehicle insurance. Our goal is to create a model that will predict current customers' interest in also purchasing vehicle insurance to create an outreach strategy. \n",
        "\n",
        "The questions we attempted to answer included:\n",
        "- ***Which customers would be more interested in buying vehicle insurance? Should we target customers who already have vehicle insurance or customers who do not have vehicle insurance yet?***\n",
        "\n",
        "- ***Which customers would be willing to buy insurance based on historical vehicle damage? Do customers who have previously damaged their vehicles are more likely to purchase vehicle insurance?***\n",
        "\n",
        "- ***Which customers would be willing to buy insurance based on annual premium paid for health insurance? Do customers who have more expensive premium are more likely to purchase vehicle insurance?***\n",
        "\n",
        "\n",
        "Our analysis focuses on exploring the data of customers who we know their interest on vehicle interest. We can also use this data that  tells us if a customer is interested or not by finding correlations between specific factors and their response and to train a predictive model that can guess based on known information of the policyholder, if they will be interested or not. If take advantage of this information, we can more precisely target certain customers and save costs on marketing or outreach. Our findings can we applied to other company's that are looking to cross-sell. It is recommended to use this apporach if outreach to all customers will be potentially costly or ineffective. Because this approach itself incurs its own costs, cross-selling should be willing to invest this much to increase the probability of securing the sale of an additional product.\n",
        "\n",
        "The information of the insurance company's existing policy holders includes demographic data (age, gender, region), vehicle information (vehicle age, accident history), and their history with the company (health insurance annual premium, number of days with company). Our model is built using supervised learning which means that all the customers in our dataset have a known label of either interested or not interested in vehicle insurance. We downloaded this dataset from Kaggle.  \n",
        "\n"
      ],
      "id": "AKSDdaixYFhf"
    },
    {
      "cell_type": "markdown",
      "metadata": {
        "id": "aeaa4bb0"
      },
      "source": [
        "## Choice for Heavier Grading on Data Processing or Data Analysis"
      ],
      "id": "aeaa4bb0"
    },
    {
      "cell_type": "markdown",
      "metadata": {
        "id": "gmQYkNRbAIsp"
      },
      "source": [
        "We would like to choose **Data Analysis** for the following reasons:\n",
        "1. We are building a classification model to predict the response variable which involves analysing independent variables and relationship between dependent and independent variables. \n",
        "2. Our dataset was moderately clean and did not require heavy data processing to make it usable\n",
        "3. The questions we are trying to answer through this project requires a lot of analysis on the data "
      ],
      "id": "gmQYkNRbAIsp"
    },
    {
      "cell_type": "markdown",
      "metadata": {
        "id": "4d52c858"
      },
      "source": [
        "## Data Processing"
      ],
      "id": "4d52c858"
    },
    {
      "cell_type": "markdown",
      "metadata": {
        "id": "71e720f6"
      },
      "source": [
        "Import libraries and load dataset"
      ],
      "id": "71e720f6"
    },
    {
      "cell_type": "code",
      "metadata": {
        "id": "bfe595ab",
        "colab": {
          "base_uri": "https://localhost:8080/"
        },
        "outputId": "0713ded4-fdb8-4b70-80c4-a905d888513d"
      },
      "source": [
        "# Import libraries \n",
        "import pandas as pd\n",
        "import numpy as np\n",
        "import seaborn as sns\n",
        "import matplotlib.pyplot as plt\n",
        "import math\n",
        "from sklearn.preprocessing import MinMaxScaler, StandardScaler\n",
        "from scipy import stats\n",
        "from statsmodels.stats.outliers_influence import variance_inflation_factor\n",
        "from sklearn.datasets import make_regression\n",
        "from sklearn.linear_model import LinearRegression, LogisticRegression\n",
        "from sklearn.svm import SVC, LinearSVC\n",
        "from sklearn.neighbors import KNeighborsClassifier\n",
        "from sklearn.ensemble import RandomForestClassifier, GradientBoostingClassifier\n",
        "from sklearn.tree import DecisionTreeClassifier\n",
        "from sklearn.naive_bayes import GaussianNB\n",
        "from sklearn.model_selection import train_test_split, KFold, cross_val_score,GridSearchCV\n",
        "from sklearn.metrics import confusion_matrix ,classification_report,precision_score, recall_score ,f1_score, roc_curve, roc_auc_score, accuracy_score \n",
        "from sklearn.svm import SVC\n",
        "import statsmodels.api as sm\n",
        "import warnings\n",
        "warnings.filterwarnings('ignore')"
      ],
      "id": "bfe595ab",
      "execution_count": 1,
      "outputs": [
        {
          "output_type": "stream",
          "name": "stderr",
          "text": [
            "/usr/local/lib/python3.7/dist-packages/statsmodels/tools/_testing.py:19: FutureWarning: pandas.util.testing is deprecated. Use the functions in the public API at pandas.testing instead.\n",
            "  import pandas.util.testing as tm\n"
          ]
        }
      ]
    },
    {
      "cell_type": "code",
      "metadata": {
        "colab": {
          "base_uri": "https://localhost:8080/",
          "height": 302
        },
        "id": "e63495c7-9c2c-4f19-a97d-d11ab54cbd05",
        "outputId": "e8b6f5b3-3736-4eea-dbdf-5411965ffd2c"
      },
      "source": [
        "# Load training data from Kaggle \n",
        "train=pd.read_csv('/content/train.csv',index_col='id')\n",
        "\n",
        "# Show first 5 instances\n",
        "train.head()"
      ],
      "id": "e63495c7-9c2c-4f19-a97d-d11ab54cbd05",
      "execution_count": 3,
      "outputs": [
        {
          "output_type": "execute_result",
          "data": {
            "text/plain": [
              "    Gender  Age  Driving_License  Region_Code  Previously_Insured Vehicle_Age  \\\n",
              "id                                                                              \n",
              "1     Male   44                1         28.0                   0   > 2 Years   \n",
              "2     Male   76                1          3.0                   0    1-2 Year   \n",
              "3     Male   47                1         28.0                   0   > 2 Years   \n",
              "4     Male   21                1         11.0                   1    < 1 Year   \n",
              "5   Female   29                1         41.0                   1    < 1 Year   \n",
              "\n",
              "   Vehicle_Damage  Annual_Premium  Policy_Sales_Channel  Vintage  Response  \n",
              "id                                                                          \n",
              "1             Yes         40454.0                  26.0      217         1  \n",
              "2              No         33536.0                  26.0      183         0  \n",
              "3             Yes         38294.0                  26.0       27         1  \n",
              "4              No         28619.0                 152.0      203         0  \n",
              "5              No         27496.0                 152.0       39         0  "
            ],
            "text/html": [
              "\n",
              "  <div id=\"df-2b2ef9fe-7b4f-412a-98a1-47706f994da6\">\n",
              "    <div class=\"colab-df-container\">\n",
              "      <div>\n",
              "<style scoped>\n",
              "    .dataframe tbody tr th:only-of-type {\n",
              "        vertical-align: middle;\n",
              "    }\n",
              "\n",
              "    .dataframe tbody tr th {\n",
              "        vertical-align: top;\n",
              "    }\n",
              "\n",
              "    .dataframe thead th {\n",
              "        text-align: right;\n",
              "    }\n",
              "</style>\n",
              "<table border=\"1\" class=\"dataframe\">\n",
              "  <thead>\n",
              "    <tr style=\"text-align: right;\">\n",
              "      <th></th>\n",
              "      <th>Gender</th>\n",
              "      <th>Age</th>\n",
              "      <th>Driving_License</th>\n",
              "      <th>Region_Code</th>\n",
              "      <th>Previously_Insured</th>\n",
              "      <th>Vehicle_Age</th>\n",
              "      <th>Vehicle_Damage</th>\n",
              "      <th>Annual_Premium</th>\n",
              "      <th>Policy_Sales_Channel</th>\n",
              "      <th>Vintage</th>\n",
              "      <th>Response</th>\n",
              "    </tr>\n",
              "    <tr>\n",
              "      <th>id</th>\n",
              "      <th></th>\n",
              "      <th></th>\n",
              "      <th></th>\n",
              "      <th></th>\n",
              "      <th></th>\n",
              "      <th></th>\n",
              "      <th></th>\n",
              "      <th></th>\n",
              "      <th></th>\n",
              "      <th></th>\n",
              "      <th></th>\n",
              "    </tr>\n",
              "  </thead>\n",
              "  <tbody>\n",
              "    <tr>\n",
              "      <th>1</th>\n",
              "      <td>Male</td>\n",
              "      <td>44</td>\n",
              "      <td>1</td>\n",
              "      <td>28.0</td>\n",
              "      <td>0</td>\n",
              "      <td>&gt; 2 Years</td>\n",
              "      <td>Yes</td>\n",
              "      <td>40454.0</td>\n",
              "      <td>26.0</td>\n",
              "      <td>217</td>\n",
              "      <td>1</td>\n",
              "    </tr>\n",
              "    <tr>\n",
              "      <th>2</th>\n",
              "      <td>Male</td>\n",
              "      <td>76</td>\n",
              "      <td>1</td>\n",
              "      <td>3.0</td>\n",
              "      <td>0</td>\n",
              "      <td>1-2 Year</td>\n",
              "      <td>No</td>\n",
              "      <td>33536.0</td>\n",
              "      <td>26.0</td>\n",
              "      <td>183</td>\n",
              "      <td>0</td>\n",
              "    </tr>\n",
              "    <tr>\n",
              "      <th>3</th>\n",
              "      <td>Male</td>\n",
              "      <td>47</td>\n",
              "      <td>1</td>\n",
              "      <td>28.0</td>\n",
              "      <td>0</td>\n",
              "      <td>&gt; 2 Years</td>\n",
              "      <td>Yes</td>\n",
              "      <td>38294.0</td>\n",
              "      <td>26.0</td>\n",
              "      <td>27</td>\n",
              "      <td>1</td>\n",
              "    </tr>\n",
              "    <tr>\n",
              "      <th>4</th>\n",
              "      <td>Male</td>\n",
              "      <td>21</td>\n",
              "      <td>1</td>\n",
              "      <td>11.0</td>\n",
              "      <td>1</td>\n",
              "      <td>&lt; 1 Year</td>\n",
              "      <td>No</td>\n",
              "      <td>28619.0</td>\n",
              "      <td>152.0</td>\n",
              "      <td>203</td>\n",
              "      <td>0</td>\n",
              "    </tr>\n",
              "    <tr>\n",
              "      <th>5</th>\n",
              "      <td>Female</td>\n",
              "      <td>29</td>\n",
              "      <td>1</td>\n",
              "      <td>41.0</td>\n",
              "      <td>1</td>\n",
              "      <td>&lt; 1 Year</td>\n",
              "      <td>No</td>\n",
              "      <td>27496.0</td>\n",
              "      <td>152.0</td>\n",
              "      <td>39</td>\n",
              "      <td>0</td>\n",
              "    </tr>\n",
              "  </tbody>\n",
              "</table>\n",
              "</div>\n",
              "      <button class=\"colab-df-convert\" onclick=\"convertToInteractive('df-2b2ef9fe-7b4f-412a-98a1-47706f994da6')\"\n",
              "              title=\"Convert this dataframe to an interactive table.\"\n",
              "              style=\"display:none;\">\n",
              "        \n",
              "  <svg xmlns=\"http://www.w3.org/2000/svg\" height=\"24px\"viewBox=\"0 0 24 24\"\n",
              "       width=\"24px\">\n",
              "    <path d=\"M0 0h24v24H0V0z\" fill=\"none\"/>\n",
              "    <path d=\"M18.56 5.44l.94 2.06.94-2.06 2.06-.94-2.06-.94-.94-2.06-.94 2.06-2.06.94zm-11 1L8.5 8.5l.94-2.06 2.06-.94-2.06-.94L8.5 2.5l-.94 2.06-2.06.94zm10 10l.94 2.06.94-2.06 2.06-.94-2.06-.94-.94-2.06-.94 2.06-2.06.94z\"/><path d=\"M17.41 7.96l-1.37-1.37c-.4-.4-.92-.59-1.43-.59-.52 0-1.04.2-1.43.59L10.3 9.45l-7.72 7.72c-.78.78-.78 2.05 0 2.83L4 21.41c.39.39.9.59 1.41.59.51 0 1.02-.2 1.41-.59l7.78-7.78 2.81-2.81c.8-.78.8-2.07 0-2.86zM5.41 20L4 18.59l7.72-7.72 1.47 1.35L5.41 20z\"/>\n",
              "  </svg>\n",
              "      </button>\n",
              "      \n",
              "  <style>\n",
              "    .colab-df-container {\n",
              "      display:flex;\n",
              "      flex-wrap:wrap;\n",
              "      gap: 12px;\n",
              "    }\n",
              "\n",
              "    .colab-df-convert {\n",
              "      background-color: #E8F0FE;\n",
              "      border: none;\n",
              "      border-radius: 50%;\n",
              "      cursor: pointer;\n",
              "      display: none;\n",
              "      fill: #1967D2;\n",
              "      height: 32px;\n",
              "      padding: 0 0 0 0;\n",
              "      width: 32px;\n",
              "    }\n",
              "\n",
              "    .colab-df-convert:hover {\n",
              "      background-color: #E2EBFA;\n",
              "      box-shadow: 0px 1px 2px rgba(60, 64, 67, 0.3), 0px 1px 3px 1px rgba(60, 64, 67, 0.15);\n",
              "      fill: #174EA6;\n",
              "    }\n",
              "\n",
              "    [theme=dark] .colab-df-convert {\n",
              "      background-color: #3B4455;\n",
              "      fill: #D2E3FC;\n",
              "    }\n",
              "\n",
              "    [theme=dark] .colab-df-convert:hover {\n",
              "      background-color: #434B5C;\n",
              "      box-shadow: 0px 1px 3px 1px rgba(0, 0, 0, 0.15);\n",
              "      filter: drop-shadow(0px 1px 2px rgba(0, 0, 0, 0.3));\n",
              "      fill: #FFFFFF;\n",
              "    }\n",
              "  </style>\n",
              "\n",
              "      <script>\n",
              "        const buttonEl =\n",
              "          document.querySelector('#df-2b2ef9fe-7b4f-412a-98a1-47706f994da6 button.colab-df-convert');\n",
              "        buttonEl.style.display =\n",
              "          google.colab.kernel.accessAllowed ? 'block' : 'none';\n",
              "\n",
              "        async function convertToInteractive(key) {\n",
              "          const element = document.querySelector('#df-2b2ef9fe-7b4f-412a-98a1-47706f994da6');\n",
              "          const dataTable =\n",
              "            await google.colab.kernel.invokeFunction('convertToInteractive',\n",
              "                                                     [key], {});\n",
              "          if (!dataTable) return;\n",
              "\n",
              "          const docLinkHtml = 'Like what you see? Visit the ' +\n",
              "            '<a target=\"_blank\" href=https://colab.research.google.com/notebooks/data_table.ipynb>data table notebook</a>'\n",
              "            + ' to learn more about interactive tables.';\n",
              "          element.innerHTML = '';\n",
              "          dataTable['output_type'] = 'display_data';\n",
              "          await google.colab.output.renderOutput(dataTable, element);\n",
              "          const docLink = document.createElement('div');\n",
              "          docLink.innerHTML = docLinkHtml;\n",
              "          element.appendChild(docLink);\n",
              "        }\n",
              "      </script>\n",
              "    </div>\n",
              "  </div>\n",
              "  "
            ]
          },
          "metadata": {},
          "execution_count": 3
        }
      ]
    },
    {
      "cell_type": "code",
      "metadata": {
        "id": "e4851052-f539-413e-93b7-c7811e052aed"
      },
      "source": [
        "# Create a copy dataset to avoid altering original data\n",
        "train_copy=train.copy()"
      ],
      "id": "e4851052-f539-413e-93b7-c7811e052aed",
      "execution_count": 4,
      "outputs": []
    },
    {
      "cell_type": "code",
      "metadata": {
        "colab": {
          "base_uri": "https://localhost:8080/"
        },
        "id": "ef43ab3e-95da-4776-9eef-4f0ca7ef6659",
        "outputId": "d906d548-2a87-46c5-be74-4a042f1f3589"
      },
      "source": [
        "# Check if there are any missing values in dataset\n",
        "train_copy.isnull().sum()"
      ],
      "id": "ef43ab3e-95da-4776-9eef-4f0ca7ef6659",
      "execution_count": 5,
      "outputs": [
        {
          "output_type": "execute_result",
          "data": {
            "text/plain": [
              "Gender                  0\n",
              "Age                     0\n",
              "Driving_License         0\n",
              "Region_Code             0\n",
              "Previously_Insured      0\n",
              "Vehicle_Age             0\n",
              "Vehicle_Damage          0\n",
              "Annual_Premium          0\n",
              "Policy_Sales_Channel    0\n",
              "Vintage                 0\n",
              "Response                0\n",
              "dtype: int64"
            ]
          },
          "metadata": {},
          "execution_count": 5
        }
      ]
    },
    {
      "cell_type": "markdown",
      "metadata": {
        "id": "9cfb59ef"
      },
      "source": [
        "Before trying to explore data set, we need to check the data types of each variable to ensure all numerical values are either integers or floats and not strings. "
      ],
      "id": "9cfb59ef"
    },
    {
      "cell_type": "code",
      "metadata": {
        "colab": {
          "base_uri": "https://localhost:8080/"
        },
        "id": "4e55af71-9309-41da-b286-42f4ca3f0d57",
        "outputId": "4224221b-5591-4846-d5f5-3ea59ced6911"
      },
      "source": [
        "# Checking for integer or float data types in each numeric column before processing \n",
        "train_copy.info()"
      ],
      "id": "4e55af71-9309-41da-b286-42f4ca3f0d57",
      "execution_count": 6,
      "outputs": [
        {
          "output_type": "stream",
          "name": "stdout",
          "text": [
            "<class 'pandas.core.frame.DataFrame'>\n",
            "Int64Index: 381109 entries, 1 to 381109\n",
            "Data columns (total 11 columns):\n",
            " #   Column                Non-Null Count   Dtype  \n",
            "---  ------                --------------   -----  \n",
            " 0   Gender                381109 non-null  object \n",
            " 1   Age                   381109 non-null  int64  \n",
            " 2   Driving_License       381109 non-null  int64  \n",
            " 3   Region_Code           381109 non-null  float64\n",
            " 4   Previously_Insured    381109 non-null  int64  \n",
            " 5   Vehicle_Age           381109 non-null  object \n",
            " 6   Vehicle_Damage        381109 non-null  object \n",
            " 7   Annual_Premium        381109 non-null  float64\n",
            " 8   Policy_Sales_Channel  381109 non-null  float64\n",
            " 9   Vintage               381109 non-null  int64  \n",
            " 10  Response              381109 non-null  int64  \n",
            "dtypes: float64(3), int64(5), object(3)\n",
            "memory usage: 34.9+ MB\n"
          ]
        }
      ]
    },
    {
      "cell_type": "markdown",
      "metadata": {
        "id": "876b6eb1"
      },
      "source": [
        "In addition to confirming the correct data type of each variable, finding how many unique values in each variable can help us categorize each column as **categorical or continuous variables**. For example, variables with 2 or 3 unique values can be considered as categorical variables, so Gender, Driving_License, Previously_Insured, Vehicle_Age, Vehicle_Damage, and Response would be processed differently than Anual_Premium or Age. "
      ],
      "id": "876b6eb1"
    },
    {
      "cell_type": "code",
      "metadata": {
        "colab": {
          "base_uri": "https://localhost:8080/"
        },
        "id": "e3fdacc1-b467-4cda-920e-c176ccb99514",
        "outputId": "23ec3da5-3259-49aa-94a4-eb586efc3967"
      },
      "source": [
        "# Showing count of unique values to describe data within each column and find categorical variables\n",
        "print('Columns and number of unique values')\n",
        "dict=[]\n",
        "for i in train_copy.columns:\n",
        "    print(f'{i} --> {train_copy[i].nunique()}')"
      ],
      "id": "e3fdacc1-b467-4cda-920e-c176ccb99514",
      "execution_count": 7,
      "outputs": [
        {
          "output_type": "stream",
          "name": "stdout",
          "text": [
            "Columns and number of unique values\n",
            "Gender --> 2\n",
            "Age --> 66\n",
            "Driving_License --> 2\n",
            "Region_Code --> 53\n",
            "Previously_Insured --> 2\n",
            "Vehicle_Age --> 3\n",
            "Vehicle_Damage --> 2\n",
            "Annual_Premium --> 48838\n",
            "Policy_Sales_Channel --> 155\n",
            "Vintage --> 290\n",
            "Response --> 2\n"
          ]
        }
      ]
    },
    {
      "cell_type": "markdown",
      "metadata": {
        "id": "3f7b1c22-a05e-49f8-b0f9-f89829187761"
      },
      "source": [
        "Statistics on **Numerical** **columns**\n"
      ],
      "id": "3f7b1c22-a05e-49f8-b0f9-f89829187761"
    },
    {
      "cell_type": "code",
      "metadata": {
        "colab": {
          "base_uri": "https://localhost:8080/",
          "height": 427
        },
        "id": "7790d1e8-956d-42f1-b33c-13eda244b3de",
        "outputId": "533d569c-4fee-4009-a5d9-bcf978ef54ee"
      },
      "source": [
        "#Pandas describe() is used to view some basic statistical details like percentile, mean, std etc. of a data frame.\n",
        "df2 = pd.DataFrame(round(train_copy.describe([.25,.5,.75,.9,.99]),2))\n",
        "df2"
      ],
      "id": "7790d1e8-956d-42f1-b33c-13eda244b3de",
      "execution_count": 8,
      "outputs": [
        {
          "output_type": "execute_result",
          "data": {
            "text/plain": [
              "             Age  Driving_License  Region_Code  Previously_Insured  \\\n",
              "count  381109.00        381109.00    381109.00           381109.00   \n",
              "mean       38.82             1.00        26.39                0.46   \n",
              "std        15.51             0.05        13.23                0.50   \n",
              "min        20.00             0.00         0.00                0.00   \n",
              "25%        25.00             1.00        15.00                0.00   \n",
              "50%        36.00             1.00        28.00                0.00   \n",
              "75%        49.00             1.00        35.00                1.00   \n",
              "90%        62.00             1.00        46.00                1.00   \n",
              "99%        77.00             1.00        50.00                1.00   \n",
              "max        85.00             1.00        52.00                1.00   \n",
              "\n",
              "       Annual_Premium  Policy_Sales_Channel    Vintage   Response  \n",
              "count       381109.00             381109.00  381109.00  381109.00  \n",
              "mean         30564.39                112.03     154.35       0.12  \n",
              "std          17213.16                 54.20      83.67       0.33  \n",
              "min           2630.00                  1.00      10.00       0.00  \n",
              "25%          24405.00                 29.00      82.00       0.00  \n",
              "50%          31669.00                133.00     154.00       0.00  \n",
              "75%          39400.00                152.00     227.00       0.00  \n",
              "90%          48431.00                156.00     270.00       1.00  \n",
              "99%          72963.00                160.00     297.00       1.00  \n",
              "max         540165.00                163.00     299.00       1.00  "
            ],
            "text/html": [
              "\n",
              "  <div id=\"df-727c8765-368d-49b9-bcc0-8a507eda37c4\">\n",
              "    <div class=\"colab-df-container\">\n",
              "      <div>\n",
              "<style scoped>\n",
              "    .dataframe tbody tr th:only-of-type {\n",
              "        vertical-align: middle;\n",
              "    }\n",
              "\n",
              "    .dataframe tbody tr th {\n",
              "        vertical-align: top;\n",
              "    }\n",
              "\n",
              "    .dataframe thead th {\n",
              "        text-align: right;\n",
              "    }\n",
              "</style>\n",
              "<table border=\"1\" class=\"dataframe\">\n",
              "  <thead>\n",
              "    <tr style=\"text-align: right;\">\n",
              "      <th></th>\n",
              "      <th>Age</th>\n",
              "      <th>Driving_License</th>\n",
              "      <th>Region_Code</th>\n",
              "      <th>Previously_Insured</th>\n",
              "      <th>Annual_Premium</th>\n",
              "      <th>Policy_Sales_Channel</th>\n",
              "      <th>Vintage</th>\n",
              "      <th>Response</th>\n",
              "    </tr>\n",
              "  </thead>\n",
              "  <tbody>\n",
              "    <tr>\n",
              "      <th>count</th>\n",
              "      <td>381109.00</td>\n",
              "      <td>381109.00</td>\n",
              "      <td>381109.00</td>\n",
              "      <td>381109.00</td>\n",
              "      <td>381109.00</td>\n",
              "      <td>381109.00</td>\n",
              "      <td>381109.00</td>\n",
              "      <td>381109.00</td>\n",
              "    </tr>\n",
              "    <tr>\n",
              "      <th>mean</th>\n",
              "      <td>38.82</td>\n",
              "      <td>1.00</td>\n",
              "      <td>26.39</td>\n",
              "      <td>0.46</td>\n",
              "      <td>30564.39</td>\n",
              "      <td>112.03</td>\n",
              "      <td>154.35</td>\n",
              "      <td>0.12</td>\n",
              "    </tr>\n",
              "    <tr>\n",
              "      <th>std</th>\n",
              "      <td>15.51</td>\n",
              "      <td>0.05</td>\n",
              "      <td>13.23</td>\n",
              "      <td>0.50</td>\n",
              "      <td>17213.16</td>\n",
              "      <td>54.20</td>\n",
              "      <td>83.67</td>\n",
              "      <td>0.33</td>\n",
              "    </tr>\n",
              "    <tr>\n",
              "      <th>min</th>\n",
              "      <td>20.00</td>\n",
              "      <td>0.00</td>\n",
              "      <td>0.00</td>\n",
              "      <td>0.00</td>\n",
              "      <td>2630.00</td>\n",
              "      <td>1.00</td>\n",
              "      <td>10.00</td>\n",
              "      <td>0.00</td>\n",
              "    </tr>\n",
              "    <tr>\n",
              "      <th>25%</th>\n",
              "      <td>25.00</td>\n",
              "      <td>1.00</td>\n",
              "      <td>15.00</td>\n",
              "      <td>0.00</td>\n",
              "      <td>24405.00</td>\n",
              "      <td>29.00</td>\n",
              "      <td>82.00</td>\n",
              "      <td>0.00</td>\n",
              "    </tr>\n",
              "    <tr>\n",
              "      <th>50%</th>\n",
              "      <td>36.00</td>\n",
              "      <td>1.00</td>\n",
              "      <td>28.00</td>\n",
              "      <td>0.00</td>\n",
              "      <td>31669.00</td>\n",
              "      <td>133.00</td>\n",
              "      <td>154.00</td>\n",
              "      <td>0.00</td>\n",
              "    </tr>\n",
              "    <tr>\n",
              "      <th>75%</th>\n",
              "      <td>49.00</td>\n",
              "      <td>1.00</td>\n",
              "      <td>35.00</td>\n",
              "      <td>1.00</td>\n",
              "      <td>39400.00</td>\n",
              "      <td>152.00</td>\n",
              "      <td>227.00</td>\n",
              "      <td>0.00</td>\n",
              "    </tr>\n",
              "    <tr>\n",
              "      <th>90%</th>\n",
              "      <td>62.00</td>\n",
              "      <td>1.00</td>\n",
              "      <td>46.00</td>\n",
              "      <td>1.00</td>\n",
              "      <td>48431.00</td>\n",
              "      <td>156.00</td>\n",
              "      <td>270.00</td>\n",
              "      <td>1.00</td>\n",
              "    </tr>\n",
              "    <tr>\n",
              "      <th>99%</th>\n",
              "      <td>77.00</td>\n",
              "      <td>1.00</td>\n",
              "      <td>50.00</td>\n",
              "      <td>1.00</td>\n",
              "      <td>72963.00</td>\n",
              "      <td>160.00</td>\n",
              "      <td>297.00</td>\n",
              "      <td>1.00</td>\n",
              "    </tr>\n",
              "    <tr>\n",
              "      <th>max</th>\n",
              "      <td>85.00</td>\n",
              "      <td>1.00</td>\n",
              "      <td>52.00</td>\n",
              "      <td>1.00</td>\n",
              "      <td>540165.00</td>\n",
              "      <td>163.00</td>\n",
              "      <td>299.00</td>\n",
              "      <td>1.00</td>\n",
              "    </tr>\n",
              "  </tbody>\n",
              "</table>\n",
              "</div>\n",
              "      <button class=\"colab-df-convert\" onclick=\"convertToInteractive('df-727c8765-368d-49b9-bcc0-8a507eda37c4')\"\n",
              "              title=\"Convert this dataframe to an interactive table.\"\n",
              "              style=\"display:none;\">\n",
              "        \n",
              "  <svg xmlns=\"http://www.w3.org/2000/svg\" height=\"24px\"viewBox=\"0 0 24 24\"\n",
              "       width=\"24px\">\n",
              "    <path d=\"M0 0h24v24H0V0z\" fill=\"none\"/>\n",
              "    <path d=\"M18.56 5.44l.94 2.06.94-2.06 2.06-.94-2.06-.94-.94-2.06-.94 2.06-2.06.94zm-11 1L8.5 8.5l.94-2.06 2.06-.94-2.06-.94L8.5 2.5l-.94 2.06-2.06.94zm10 10l.94 2.06.94-2.06 2.06-.94-2.06-.94-.94-2.06-.94 2.06-2.06.94z\"/><path d=\"M17.41 7.96l-1.37-1.37c-.4-.4-.92-.59-1.43-.59-.52 0-1.04.2-1.43.59L10.3 9.45l-7.72 7.72c-.78.78-.78 2.05 0 2.83L4 21.41c.39.39.9.59 1.41.59.51 0 1.02-.2 1.41-.59l7.78-7.78 2.81-2.81c.8-.78.8-2.07 0-2.86zM5.41 20L4 18.59l7.72-7.72 1.47 1.35L5.41 20z\"/>\n",
              "  </svg>\n",
              "      </button>\n",
              "      \n",
              "  <style>\n",
              "    .colab-df-container {\n",
              "      display:flex;\n",
              "      flex-wrap:wrap;\n",
              "      gap: 12px;\n",
              "    }\n",
              "\n",
              "    .colab-df-convert {\n",
              "      background-color: #E8F0FE;\n",
              "      border: none;\n",
              "      border-radius: 50%;\n",
              "      cursor: pointer;\n",
              "      display: none;\n",
              "      fill: #1967D2;\n",
              "      height: 32px;\n",
              "      padding: 0 0 0 0;\n",
              "      width: 32px;\n",
              "    }\n",
              "\n",
              "    .colab-df-convert:hover {\n",
              "      background-color: #E2EBFA;\n",
              "      box-shadow: 0px 1px 2px rgba(60, 64, 67, 0.3), 0px 1px 3px 1px rgba(60, 64, 67, 0.15);\n",
              "      fill: #174EA6;\n",
              "    }\n",
              "\n",
              "    [theme=dark] .colab-df-convert {\n",
              "      background-color: #3B4455;\n",
              "      fill: #D2E3FC;\n",
              "    }\n",
              "\n",
              "    [theme=dark] .colab-df-convert:hover {\n",
              "      background-color: #434B5C;\n",
              "      box-shadow: 0px 1px 3px 1px rgba(0, 0, 0, 0.15);\n",
              "      filter: drop-shadow(0px 1px 2px rgba(0, 0, 0, 0.3));\n",
              "      fill: #FFFFFF;\n",
              "    }\n",
              "  </style>\n",
              "\n",
              "      <script>\n",
              "        const buttonEl =\n",
              "          document.querySelector('#df-727c8765-368d-49b9-bcc0-8a507eda37c4 button.colab-df-convert');\n",
              "        buttonEl.style.display =\n",
              "          google.colab.kernel.accessAllowed ? 'block' : 'none';\n",
              "\n",
              "        async function convertToInteractive(key) {\n",
              "          const element = document.querySelector('#df-727c8765-368d-49b9-bcc0-8a507eda37c4');\n",
              "          const dataTable =\n",
              "            await google.colab.kernel.invokeFunction('convertToInteractive',\n",
              "                                                     [key], {});\n",
              "          if (!dataTable) return;\n",
              "\n",
              "          const docLinkHtml = 'Like what you see? Visit the ' +\n",
              "            '<a target=\"_blank\" href=https://colab.research.google.com/notebooks/data_table.ipynb>data table notebook</a>'\n",
              "            + ' to learn more about interactive tables.';\n",
              "          element.innerHTML = '';\n",
              "          dataTable['output_type'] = 'display_data';\n",
              "          await google.colab.output.renderOutput(dataTable, element);\n",
              "          const docLink = document.createElement('div');\n",
              "          docLink.innerHTML = docLinkHtml;\n",
              "          element.appendChild(docLink);\n",
              "        }\n",
              "      </script>\n",
              "    </div>\n",
              "  </div>\n",
              "  "
            ]
          },
          "metadata": {},
          "execution_count": 8
        }
      ]
    },
    {
      "cell_type": "code",
      "metadata": {
        "colab": {
          "base_uri": "https://localhost:8080/",
          "height": 298
        },
        "id": "jasZVtaanCxn",
        "outputId": "fc5a9a42-f33d-4ccf-cda5-6697b0be2403"
      },
      "source": [
        "# Create box plot of annual premium to see the trends\n",
        "sns.boxplot(x=train_copy['Annual_Premium'])"
      ],
      "id": "jasZVtaanCxn",
      "execution_count": 9,
      "outputs": [
        {
          "output_type": "execute_result",
          "data": {
            "text/plain": [
              "<matplotlib.axes._subplots.AxesSubplot at 0x7f76d4a44f50>"
            ]
          },
          "metadata": {},
          "execution_count": 9
        },
        {
          "output_type": "display_data",
          "data": {
            "text/plain": [
              "<Figure size 432x288 with 1 Axes>"
            ],
            "image/png": "[encoded data removed]"
          },
          "metadata": {
            "needs_background": "light"
          }
        }
      ]
    },
    {
      "cell_type": "markdown",
      "metadata": {
        "id": "17f9c3a4-4c1b-4104-96a5-234be07c64af"
      },
      "source": [
        "**Observation**\n",
        "\n",
        "By studying the statistics from the dataframe we can see that there is a huge difference in the distribution of the Annual_Premium, so from that we can say that the data **Annual_Premium** has outliers. Here we are identifying these outliers from the datset. "
      ],
      "id": "17f9c3a4-4c1b-4104-96a5-234be07c64af"
    },
    {
      "cell_type": "markdown",
      "metadata": {
        "id": "88c527f7"
      },
      "source": [
        "### Outlier Treatment"
      ],
      "id": "88c527f7"
    },
    {
      "cell_type": "markdown",
      "metadata": {
        "id": "FoUJtN3qjR76"
      },
      "source": [
        "As there are some outliers in the distribution of Annual_Premium, to avoid variability in a measurement and experimental errors. We are using Z- score method with providing threshold to remove the outliers on-demand basis.\n",
        "\n",
        "1. Z-Score is tells us how far the value is from the mean\n",
        "2. The threshold value for the z score is to classify a point as an outlier or not."
      ],
      "id": "FoUJtN3qjR76"
    },
    {
      "cell_type": "code",
      "metadata": {
        "colab": {
          "base_uri": "https://localhost:8080/",
          "height": 302
        },
        "id": "TJb8tYT0-hX-",
        "outputId": "b5e34742-e82c-4a68-fba8-c163dc0b6ede"
      },
      "source": [
        "# Identifying outliers for Annual Premium\n",
        "# Obtain z scores of Annual Premium \n",
        "z_scores = np.abs(stats.zscore(train_copy['Annual_Premium']))\n",
        "\n",
        "# Assign threshold for outliers based on z score\n",
        "outlier_threshold = 3\n",
        "\n",
        "# Training dataset without outliers\n",
        "train_copy = train_copy[z_scores < outlier_threshold]\n",
        "train_copy.head()"
      ],
      "id": "TJb8tYT0-hX-",
      "execution_count": 10,
      "outputs": [
        {
          "output_type": "execute_result",
          "data": {
            "text/plain": [
              "    Gender  Age  Driving_License  Region_Code  Previously_Insured Vehicle_Age  \\\n",
              "id                                                                              \n",
              "1     Male   44                1         28.0                   0   > 2 Years   \n",
              "2     Male   76                1          3.0                   0    1-2 Year   \n",
              "3     Male   47                1         28.0                   0   > 2 Years   \n",
              "4     Male   21                1         11.0                   1    < 1 Year   \n",
              "5   Female   29                1         41.0                   1    < 1 Year   \n",
              "\n",
              "   Vehicle_Damage  Annual_Premium  Policy_Sales_Channel  Vintage  Response  \n",
              "id                                                                          \n",
              "1             Yes         40454.0                  26.0      217         1  \n",
              "2              No         33536.0                  26.0      183         0  \n",
              "3             Yes         38294.0                  26.0       27         1  \n",
              "4              No         28619.0                 152.0      203         0  \n",
              "5              No         27496.0                 152.0       39         0  "
            ],
            "text/html": [
              "\n",
              "  <div id=\"df-806fa8f0-5db1-409e-b556-910589155cbe\">\n",
              "    <div class=\"colab-df-container\">\n",
              "      <div>\n",
              "<style scoped>\n",
              "    .dataframe tbody tr th:only-of-type {\n",
              "        vertical-align: middle;\n",
              "    }\n",
              "\n",
              "    .dataframe tbody tr th {\n",
              "        vertical-align: top;\n",
              "    }\n",
              "\n",
              "    .dataframe thead th {\n",
              "        text-align: right;\n",
              "    }\n",
              "</style>\n",
              "<table border=\"1\" class=\"dataframe\">\n",
              "  <thead>\n",
              "    <tr style=\"text-align: right;\">\n",
              "      <th></th>\n",
              "      <th>Gender</th>\n",
              "      <th>Age</th>\n",
              "      <th>Driving_License</th>\n",
              "      <th>Region_Code</th>\n",
              "      <th>Previously_Insured</th>\n",
              "      <th>Vehicle_Age</th>\n",
              "      <th>Vehicle_Damage</th>\n",
              "      <th>Annual_Premium</th>\n",
              "      <th>Policy_Sales_Channel</th>\n",
              "      <th>Vintage</th>\n",
              "      <th>Response</th>\n",
              "    </tr>\n",
              "    <tr>\n",
              "      <th>id</th>\n",
              "      <th></th>\n",
              "      <th></th>\n",
              "      <th></th>\n",
              "      <th></th>\n",
              "      <th></th>\n",
              "      <th></th>\n",
              "      <th></th>\n",
              "      <th></th>\n",
              "      <th></th>\n",
              "      <th></th>\n",
              "      <th></th>\n",
              "    </tr>\n",
              "  </thead>\n",
              "  <tbody>\n",
              "    <tr>\n",
              "      <th>1</th>\n",
              "      <td>Male</td>\n",
              "      <td>44</td>\n",
              "      <td>1</td>\n",
              "      <td>28.0</td>\n",
              "      <td>0</td>\n",
              "      <td>&gt; 2 Years</td>\n",
              "      <td>Yes</td>\n",
              "      <td>40454.0</td>\n",
              "      <td>26.0</td>\n",
              "      <td>217</td>\n",
              "      <td>1</td>\n",
              "    </tr>\n",
              "    <tr>\n",
              "      <th>2</th>\n",
              "      <td>Male</td>\n",
              "      <td>76</td>\n",
              "      <td>1</td>\n",
              "      <td>3.0</td>\n",
              "      <td>0</td>\n",
              "      <td>1-2 Year</td>\n",
              "      <td>No</td>\n",
              "      <td>33536.0</td>\n",
              "      <td>26.0</td>\n",
              "      <td>183</td>\n",
              "      <td>0</td>\n",
              "    </tr>\n",
              "    <tr>\n",
              "      <th>3</th>\n",
              "      <td>Male</td>\n",
              "      <td>47</td>\n",
              "      <td>1</td>\n",
              "      <td>28.0</td>\n",
              "      <td>0</td>\n",
              "      <td>&gt; 2 Years</td>\n",
              "      <td>Yes</td>\n",
              "      <td>38294.0</td>\n",
              "      <td>26.0</td>\n",
              "      <td>27</td>\n",
              "      <td>1</td>\n",
              "    </tr>\n",
              "    <tr>\n",
              "      <th>4</th>\n",
              "      <td>Male</td>\n",
              "      <td>21</td>\n",
              "      <td>1</td>\n",
              "      <td>11.0</td>\n",
              "      <td>1</td>\n",
              "      <td>&lt; 1 Year</td>\n",
              "      <td>No</td>\n",
              "      <td>28619.0</td>\n",
              "      <td>152.0</td>\n",
              "      <td>203</td>\n",
              "      <td>0</td>\n",
              "    </tr>\n",
              "    <tr>\n",
              "      <th>5</th>\n",
              "      <td>Female</td>\n",
              "      <td>29</td>\n",
              "      <td>1</td>\n",
              "      <td>41.0</td>\n",
              "      <td>1</td>\n",
              "      <td>&lt; 1 Year</td>\n",
              "      <td>No</td>\n",
              "      <td>27496.0</td>\n",
              "      <td>152.0</td>\n",
              "      <td>39</td>\n",
              "      <td>0</td>\n",
              "    </tr>\n",
              "  </tbody>\n",
              "</table>\n",
              "</div>\n",
              "      <button class=\"colab-df-convert\" onclick=\"convertToInteractive('df-806fa8f0-5db1-409e-b556-910589155cbe')\"\n",
              "              title=\"Convert this dataframe to an interactive table.\"\n",
              "              style=\"display:none;\">\n",
              "        \n",
              "  <svg xmlns=\"http://www.w3.org/2000/svg\" height=\"24px\"viewBox=\"0 0 24 24\"\n",
              "       width=\"24px\">\n",
              "    <path d=\"M0 0h24v24H0V0z\" fill=\"none\"/>\n",
              "    <path d=\"M18.56 5.44l.94 2.06.94-2.06 2.06-.94-2.06-.94-.94-2.06-.94 2.06-2.06.94zm-11 1L8.5 8.5l.94-2.06 2.06-.94-2.06-.94L8.5 2.5l-.94 2.06-2.06.94zm10 10l.94 2.06.94-2.06 2.06-.94-2.06-.94-.94-2.06-.94 2.06-2.06.94z\"/><path d=\"M17.41 7.96l-1.37-1.37c-.4-.4-.92-.59-1.43-.59-.52 0-1.04.2-1.43.59L10.3 9.45l-7.72 7.72c-.78.78-.78 2.05 0 2.83L4 21.41c.39.39.9.59 1.41.59.51 0 1.02-.2 1.41-.59l7.78-7.78 2.81-2.81c.8-.78.8-2.07 0-2.86zM5.41 20L4 18.59l7.72-7.72 1.47 1.35L5.41 20z\"/>\n",
              "  </svg>\n",
              "      </button>\n",
              "      \n",
              "  <style>\n",
              "    .colab-df-container {\n",
              "      display:flex;\n",
              "      flex-wrap:wrap;\n",
              "      gap: 12px;\n",
              "    }\n",
              "\n",
              "    .colab-df-convert {\n",
              "      background-color: #E8F0FE;\n",
              "      border: none;\n",
              "      border-radius: 50%;\n",
              "      cursor: pointer;\n",
              "      display: none;\n",
              "      fill: #1967D2;\n",
              "      height: 32px;\n",
              "      padding: 0 0 0 0;\n",
              "      width: 32px;\n",
              "    }\n",
              "\n",
              "    .colab-df-convert:hover {\n",
              "      background-color: #E2EBFA;\n",
              "      box-shadow: 0px 1px 2px rgba(60, 64, 67, 0.3), 0px 1px 3px 1px rgba(60, 64, 67, 0.15);\n",
              "      fill: #174EA6;\n",
              "    }\n",
              "\n",
              "    [theme=dark] .colab-df-convert {\n",
              "      background-color: #3B4455;\n",
              "      fill: #D2E3FC;\n",
              "    }\n",
              "\n",
              "    [theme=dark] .colab-df-convert:hover {\n",
              "      background-color: #434B5C;\n",
              "      box-shadow: 0px 1px 3px 1px rgba(0, 0, 0, 0.15);\n",
              "      filter: drop-shadow(0px 1px 2px rgba(0, 0, 0, 0.3));\n",
              "      fill: #FFFFFF;\n",
              "    }\n",
              "  </style>\n",
              "\n",
              "      <script>\n",
              "        const buttonEl =\n",
              "          document.querySelector('#df-806fa8f0-5db1-409e-b556-910589155cbe button.colab-df-convert');\n",
              "        buttonEl.style.display =\n",
              "          google.colab.kernel.accessAllowed ? 'block' : 'none';\n",
              "\n",
              "        async function convertToInteractive(key) {\n",
              "          const element = document.querySelector('#df-806fa8f0-5db1-409e-b556-910589155cbe');\n",
              "          const dataTable =\n",
              "            await google.colab.kernel.invokeFunction('convertToInteractive',\n",
              "                                                     [key], {});\n",
              "          if (!dataTable) return;\n",
              "\n",
              "          const docLinkHtml = 'Like what you see? Visit the ' +\n",
              "            '<a target=\"_blank\" href=https://colab.research.google.com/notebooks/data_table.ipynb>data table notebook</a>'\n",
              "            + ' to learn more about interactive tables.';\n",
              "          element.innerHTML = '';\n",
              "          dataTable['output_type'] = 'display_data';\n",
              "          await google.colab.output.renderOutput(dataTable, element);\n",
              "          const docLink = document.createElement('div');\n",
              "          docLink.innerHTML = docLinkHtml;\n",
              "          element.appendChild(docLink);\n",
              "        }\n",
              "      </script>\n",
              "    </div>\n",
              "  </div>\n",
              "  "
            ]
          },
          "metadata": {},
          "execution_count": 10
        }
      ]
    },
    {
      "cell_type": "code",
      "metadata": {
        "id": "a46ffef2-f1dc-4075-86f8-b07ac1ec6f67"
      },
      "source": [
        "# Create lists of column names for numeric variables and non numeric variables\n",
        "numeric_datacolumns = ['Age', 'Region_Code','Annual_Premium','Vintage', 'Policy_Sales_Channel', 'Driving_License', 'Previously_Insured', 'Response']\n",
        "non_numeric_datacolumns = ['Gender','Vehicle_Age','Vehicle_Damage']"
      ],
      "id": "a46ffef2-f1dc-4075-86f8-b07ac1ec6f67",
      "execution_count": 11,
      "outputs": []
    },
    {
      "cell_type": "markdown",
      "metadata": {
        "id": "a2eb542f-0133-425d-8302-843f94457049"
      },
      "source": [
        "Statistics on **Categorical columns**"
      ],
      "id": "a2eb542f-0133-425d-8302-843f94457049"
    },
    {
      "cell_type": "code",
      "metadata": {
        "colab": {
          "base_uri": "https://localhost:8080/",
          "height": 175
        },
        "id": "929223c5-7e4a-42a4-8fb0-2aeba2fd1ddb",
        "outputId": "9a0d6d84-e36d-4a53-a3a8-4a7202f5e193"
      },
      "source": [
        "train_copy[non_numeric_datacolumns].describe()"
      ],
      "id": "929223c5-7e4a-42a4-8fb0-2aeba2fd1ddb",
      "execution_count": 12,
      "outputs": [
        {
          "output_type": "execute_result",
          "data": {
            "text/plain": [
              "        Gender Vehicle_Age Vehicle_Damage\n",
              "count   379026      379026         379026\n",
              "unique       2           3              2\n",
              "top       Male    1-2 Year            Yes\n",
              "freq    204915      199127         191296"
            ],
            "text/html": [
              "\n",
              "  <div id=\"df-f95ecad2-1296-4162-9f9e-98e6bc63982d\">\n",
              "    <div class=\"colab-df-container\">\n",
              "      <div>\n",
              "<style scoped>\n",
              "    .dataframe tbody tr th:only-of-type {\n",
              "        vertical-align: middle;\n",
              "    }\n",
              "\n",
              "    .dataframe tbody tr th {\n",
              "        vertical-align: top;\n",
              "    }\n",
              "\n",
              "    .dataframe thead th {\n",
              "        text-align: right;\n",
              "    }\n",
              "</style>\n",
              "<table border=\"1\" class=\"dataframe\">\n",
              "  <thead>\n",
              "    <tr style=\"text-align: right;\">\n",
              "      <th></th>\n",
              "      <th>Gender</th>\n",
              "      <th>Vehicle_Age</th>\n",
              "      <th>Vehicle_Damage</th>\n",
              "    </tr>\n",
              "  </thead>\n",
              "  <tbody>\n",
              "    <tr>\n",
              "      <th>count</th>\n",
              "      <td>379026</td>\n",
              "      <td>379026</td>\n",
              "      <td>379026</td>\n",
              "    </tr>\n",
              "    <tr>\n",
              "      <th>unique</th>\n",
              "      <td>2</td>\n",
              "      <td>3</td>\n",
              "      <td>2</td>\n",
              "    </tr>\n",
              "    <tr>\n",
              "      <th>top</th>\n",
              "      <td>Male</td>\n",
              "      <td>1-2 Year</td>\n",
              "      <td>Yes</td>\n",
              "    </tr>\n",
              "    <tr>\n",
              "      <th>freq</th>\n",
              "      <td>204915</td>\n",
              "      <td>199127</td>\n",
              "      <td>191296</td>\n",
              "    </tr>\n",
              "  </tbody>\n",
              "</table>\n",
              "</div>\n",
              "      <button class=\"colab-df-convert\" onclick=\"convertToInteractive('df-f95ecad2-1296-4162-9f9e-98e6bc63982d')\"\n",
              "              title=\"Convert this dataframe to an interactive table.\"\n",
              "              style=\"display:none;\">\n",
              "        \n",
              "  <svg xmlns=\"http://www.w3.org/2000/svg\" height=\"24px\"viewBox=\"0 0 24 24\"\n",
              "       width=\"24px\">\n",
              "    <path d=\"M0 0h24v24H0V0z\" fill=\"none\"/>\n",
              "    <path d=\"M18.56 5.44l.94 2.06.94-2.06 2.06-.94-2.06-.94-.94-2.06-.94 2.06-2.06.94zm-11 1L8.5 8.5l.94-2.06 2.06-.94-2.06-.94L8.5 2.5l-.94 2.06-2.06.94zm10 10l.94 2.06.94-2.06 2.06-.94-2.06-.94-.94-2.06-.94 2.06-2.06.94z\"/><path d=\"M17.41 7.96l-1.37-1.37c-.4-.4-.92-.59-1.43-.59-.52 0-1.04.2-1.43.59L10.3 9.45l-7.72 7.72c-.78.78-.78 2.05 0 2.83L4 21.41c.39.39.9.59 1.41.59.51 0 1.02-.2 1.41-.59l7.78-7.78 2.81-2.81c.8-.78.8-2.07 0-2.86zM5.41 20L4 18.59l7.72-7.72 1.47 1.35L5.41 20z\"/>\n",
              "  </svg>\n",
              "      </button>\n",
              "      \n",
              "  <style>\n",
              "    .colab-df-container {\n",
              "      display:flex;\n",
              "      flex-wrap:wrap;\n",
              "      gap: 12px;\n",
              "    }\n",
              "\n",
              "    .colab-df-convert {\n",
              "      background-color: #E8F0FE;\n",
              "      border: none;\n",
              "      border-radius: 50%;\n",
              "      cursor: pointer;\n",
              "      display: none;\n",
              "      fill: #1967D2;\n",
              "      height: 32px;\n",
              "      padding: 0 0 0 0;\n",
              "      width: 32px;\n",
              "    }\n",
              "\n",
              "    .colab-df-convert:hover {\n",
              "      background-color: #E2EBFA;\n",
              "      box-shadow: 0px 1px 2px rgba(60, 64, 67, 0.3), 0px 1px 3px 1px rgba(60, 64, 67, 0.15);\n",
              "      fill: #174EA6;\n",
              "    }\n",
              "\n",
              "    [theme=dark] .colab-df-convert {\n",
              "      background-color: #3B4455;\n",
              "      fill: #D2E3FC;\n",
              "    }\n",
              "\n",
              "    [theme=dark] .colab-df-convert:hover {\n",
              "      background-color: #434B5C;\n",
              "      box-shadow: 0px 1px 3px 1px rgba(0, 0, 0, 0.15);\n",
              "      filter: drop-shadow(0px 1px 2px rgba(0, 0, 0, 0.3));\n",
              "      fill: #FFFFFF;\n",
              "    }\n",
              "  </style>\n",
              "\n",
              "      <script>\n",
              "        const buttonEl =\n",
              "          document.querySelector('#df-f95ecad2-1296-4162-9f9e-98e6bc63982d button.colab-df-convert');\n",
              "        buttonEl.style.display =\n",
              "          google.colab.kernel.accessAllowed ? 'block' : 'none';\n",
              "\n",
              "        async function convertToInteractive(key) {\n",
              "          const element = document.querySelector('#df-f95ecad2-1296-4162-9f9e-98e6bc63982d');\n",
              "          const dataTable =\n",
              "            await google.colab.kernel.invokeFunction('convertToInteractive',\n",
              "                                                     [key], {});\n",
              "          if (!dataTable) return;\n",
              "\n",
              "          const docLinkHtml = 'Like what you see? Visit the ' +\n",
              "            '<a target=\"_blank\" href=https://colab.research.google.com/notebooks/data_table.ipynb>data table notebook</a>'\n",
              "            + ' to learn more about interactive tables.';\n",
              "          element.innerHTML = '';\n",
              "          dataTable['output_type'] = 'display_data';\n",
              "          await google.colab.output.renderOutput(dataTable, element);\n",
              "          const docLink = document.createElement('div');\n",
              "          docLink.innerHTML = docLinkHtml;\n",
              "          element.appendChild(docLink);\n",
              "        }\n",
              "      </script>\n",
              "    </div>\n",
              "  </div>\n",
              "  "
            ]
          },
          "metadata": {},
          "execution_count": 12
        }
      ]
    },
    {
      "cell_type": "markdown",
      "metadata": {
        "id": "0d76188a-67e8-4945-93f5-04b0448979d2"
      },
      "source": [
        "**Observations**\n",
        "1. There are more number of males are there than female.<br/>\n",
        "2. The number of vehicles which are aged between 1-2 year are more.<br/>\n",
        "3. There are more number of damaged vehicle compared to undamaged.<br/>"
      ],
      "id": "0d76188a-67e8-4945-93f5-04b0448979d2"
    },
    {
      "cell_type": "markdown",
      "metadata": {
        "id": "bb256ad7"
      },
      "source": [
        "## Data Analysis"
      ],
      "id": "bb256ad7"
    },
    {
      "cell_type": "markdown",
      "metadata": {
        "id": "NcDlrvJs5-Q_"
      },
      "source": [
        "To successfully cross-sell vehicle insurance to the existing health insurance customers, it is necessary to target the right customers. Based on the availability of data, we can attempt to answer most of the below questions by using data visualization techniques. Sales and marketing efforts can be concentrated towards the people who would be more willing to buy vehicle insurance based on our analysis."
      ],
      "id": "NcDlrvJs5-Q_"
    },
    {
      "cell_type": "markdown",
      "metadata": {
        "id": "Ta3dAaNgtv90"
      },
      "source": [
        "***Which customers would be more interested in buying vehicle insurance? Should we target customers who already have vehicle insurance or customers who do not have vehicle insurance yet?***"
      ],
      "id": "Ta3dAaNgtv90"
    },
    {
      "cell_type": "markdown",
      "metadata": {
        "id": "37a7fd88-f61c-4750-9aff-c33db5c778a0"
      },
      "source": [
        "Using visualization to analyze response rates of customers who are previously insured and how many customers don't have vehicle insurance. From this analysis we can get to know the potential clients who are planning to get insurance."
      ],
      "id": "37a7fd88-f61c-4750-9aff-c33db5c778a0"
    },
    {
      "cell_type": "code",
      "metadata": {
        "colab": {
          "base_uri": "https://localhost:8080/",
          "height": 442
        },
        "id": "47e0fe98-6bfb-46bd-93e9-24f8e8ab203d",
        "outputId": "a1953bed-883e-4d86-ed3d-3f44225e81c4"
      },
      "source": [
        "# Creating a stacked bar chart to show whether customers who have vehicle insurance would be interested in buying our \n",
        "# company's vehicle insurance or not\n",
        "\n",
        "ax= pd.crosstab(train_copy['Previously_Insured'], train_copy['Response']).apply(lambda r: r/r.sum()*100, axis=1)\n",
        "ax_1 = ax.plot.bar(figsize=(10,7),stacked=True, rot=0)\n",
        "\n",
        "plt.legend(loc='upper center', bbox_to_anchor=(0.1, 1.0), title=\"Response\")\n",
        "\n",
        "plt.xlabel('Previously insured status')\n",
        "plt.ylabel('Percent Distribution')\n",
        "ax_1.set_xticklabels(['No','Yes'])\n",
        "for rec in ax_1.patches:\n",
        "    height = rec.get_height()\n",
        "    ax_1.text(rec.get_x() + rec.get_width() / 2, \n",
        "              rec.get_y() + height / 2,\n",
        "              \"{:.0f}%\".format(height),\n",
        "              ha='center', \n",
        "              va='bottom')\n",
        "plt.show()"
      ],
      "id": "47e0fe98-6bfb-46bd-93e9-24f8e8ab203d",
      "execution_count": 13,
      "outputs": [
        {
          "output_type": "display_data",
          "data": {
            "text/plain": [
              "<Figure size 720x504 with 1 Axes>"
            ],
            "image/png": "[encoded data removed]"
          },
          "metadata": {
            "needs_background": "light"
          }
        }
      ]
    },
    {
      "cell_type": "markdown",
      "metadata": {
        "id": "4-UVIUN816iA"
      },
      "source": [
        "**Inference**<br/>\n",
        "According to the analysis, it is evident that many customers who don't previously have vehicle insurance would be interested to buy our vehicle insurance. From a business perspective, we need to target customers who do not have vehicle insurance instead of trying to convince customers with vehicle insurance to switch to our policy."
      ],
      "id": "4-UVIUN816iA"
    },
    {
      "cell_type": "markdown",
      "metadata": {
        "id": "_gqSn0r6u1D1"
      },
      "source": [
        "***Which customers would be willing to buy insurance based on historical vehicle damage? Do customers who have previously damaged their vehicles are more likely to purchase vehicle insurance?***"
      ],
      "id": "_gqSn0r6u1D1"
    },
    {
      "cell_type": "markdown",
      "metadata": {
        "id": "5e02670b"
      },
      "source": [
        "Using visualization to analyze whether the response depends on \n",
        "customer vehicle has any history of damage in the past or not."
      ],
      "id": "5e02670b"
    },
    {
      "cell_type": "code",
      "metadata": {
        "colab": {
          "base_uri": "https://localhost:8080/",
          "height": 443
        },
        "id": "DdIy7VsUzZCm",
        "outputId": "572d0311-8690-473e-d832-2f273891ef10"
      },
      "source": [
        "## Create a stacked bar plot to visualize the response depends on historical vehicle damage\n",
        "\n",
        "ax= pd.crosstab(train_copy['Vehicle_Damage'], train_copy['Response']).apply(lambda r: r/r.sum()*100, axis=1)\n",
        "ax_1 = ax.plot.bar(figsize=(10,7),stacked=True, rot=0)\n",
        "\n",
        "plt.legend(loc='upper center', bbox_to_anchor=(0.1, 1.0), title=\"Response\")\n",
        "\n",
        "plt.xlabel('Vehicle_Damage')\n",
        "plt.ylabel('Percent Distribution')\n",
        "\n",
        "for rec in ax_1.patches:\n",
        "    height = rec.get_height()\n",
        "    ax_1.text(rec.get_x() + rec.get_width() / 2, \n",
        "              rec.get_y() + height / 2,\n",
        "              \"{:.0f}%\".format(height),\n",
        "              ha='center', \n",
        "              va='bottom')\n",
        "\n",
        "plt.show()"
      ],
      "id": "DdIy7VsUzZCm",
      "execution_count": 14,
      "outputs": [
        {
          "output_type": "display_data",
          "data": {
            "text/plain": [
              "<Figure size 720x504 with 1 Axes>"
            ],
            "image/png": "[encoded data removed]"
          },
          "metadata": {
            "needs_background": "light"
          }
        }
      ]
    },
    {
      "cell_type": "markdown",
      "metadata": {
        "id": "pFSOdOkRlAdZ"
      },
      "source": [
        "**Inference**<br/>\n",
        "According to the data, more people who responded that they are willing to buy car insurance have a past history of vehicle damage than customers who have never had a vehicle damage, thus the firm should focus more on customers with a history of vehicle damage to market their product. From a business perspective we need to target our customer acquisition efforts on people who have some vehicle accidents/damage previously. It is also profitable for our company to target such customers as we can charge a higher premium for these customers."
      ],
      "id": "pFSOdOkRlAdZ"
    },
    {
      "cell_type": "markdown",
      "metadata": {
        "id": "D2TPN163_E57"
      },
      "source": [
        "***Which customers would be willing to buy insurance based on vehicle age? Do customers who have newer vehicles are more likely to purchase vehicle insurance?***"
      ],
      "id": "D2TPN163_E57"
    },
    {
      "cell_type": "markdown",
      "metadata": {
        "id": "ZC2XaUsH_Xaz"
      },
      "source": [
        "Using visualization to analyze whether the response depends on how old the customer's vehicle is or not"
      ],
      "id": "ZC2XaUsH_Xaz"
    },
    {
      "cell_type": "code",
      "metadata": {
        "colab": {
          "base_uri": "https://localhost:8080/",
          "height": 143
        },
        "id": "0YwM-ezv1cuN",
        "outputId": "e0ba2a8f-99d3-4415-a111-6d9b3b6bc8fa"
      },
      "source": [
        "#Splitting customers according to vehicle age and analysing based on response\n",
        "\n",
        "old = train_copy[train_copy['Vehicle_Age']=='> 2 Years']\n",
        "mid = train_copy[train_copy['Vehicle_Age']=='1-2 Year']\n",
        "new = train_copy[train_copy['Vehicle_Age']=='< 1 Year']\n",
        "\n",
        "sum_old= sum(old['Response'].value_counts())\n",
        "sum_mid= sum(mid['Response'].value_counts())\n",
        "sum_new= sum(new['Response'].value_counts())\n",
        "PERCENT_VALUE = 100\n",
        "percentResp_old = ((old['Response'].value_counts()/sum_old)*PERCENT_VALUE)\n",
        "percentResp_mid = ((mid['Response'].value_counts()/sum_mid)*PERCENT_VALUE)\n",
        "percentResp_new = ((new['Response'].value_counts()/sum_new)*PERCENT_VALUE)\n",
        "\n",
        "column_names = [\"<1 year\", \"1-2 years\", \">2 years\"]\n",
        "df10 = pd.DataFrame(columns = column_names)\n",
        "df10['<1 year']= percentResp_new\n",
        "df10['1-2 years']= percentResp_mid\n",
        "df10['>2 years']= percentResp_old\n",
        "\n",
        "df10.rename(index={0.0: 'Response-No', 1.0 : 'Response-Yes'}, inplace= True)\n",
        "\n",
        "df11 = df10.T\n",
        "#df11.drop(columns=['No'], inplace= True)\n",
        "df11"
      ],
      "id": "0YwM-ezv1cuN",
      "execution_count": 15,
      "outputs": [
        {
          "output_type": "execute_result",
          "data": {
            "text/plain": [
              "           Response-No  Response-Yes\n",
              "<1 year      95.628559      4.371441\n",
              "1-2 years    82.638718     17.361282\n",
              ">2 years     70.700637     29.299363"
            ],
            "text/html": [
              "\n",
              "  <div id=\"df-6cc44d24-e72d-4684-b29f-e055f7141204\">\n",
              "    <div class=\"colab-df-container\">\n",
              "      <div>\n",
              "<style scoped>\n",
              "    .dataframe tbody tr th:only-of-type {\n",
              "        vertical-align: middle;\n",
              "    }\n",
              "\n",
              "    .dataframe tbody tr th {\n",
              "        vertical-align: top;\n",
              "    }\n",
              "\n",
              "    .dataframe thead th {\n",
              "        text-align: right;\n",
              "    }\n",
              "</style>\n",
              "<table border=\"1\" class=\"dataframe\">\n",
              "  <thead>\n",
              "    <tr style=\"text-align: right;\">\n",
              "      <th></th>\n",
              "      <th>Response-No</th>\n",
              "      <th>Response-Yes</th>\n",
              "    </tr>\n",
              "  </thead>\n",
              "  <tbody>\n",
              "    <tr>\n",
              "      <th>&lt;1 year</th>\n",
              "      <td>95.628559</td>\n",
              "      <td>4.371441</td>\n",
              "    </tr>\n",
              "    <tr>\n",
              "      <th>1-2 years</th>\n",
              "      <td>82.638718</td>\n",
              "      <td>17.361282</td>\n",
              "    </tr>\n",
              "    <tr>\n",
              "      <th>&gt;2 years</th>\n",
              "      <td>70.700637</td>\n",
              "      <td>29.299363</td>\n",
              "    </tr>\n",
              "  </tbody>\n",
              "</table>\n",
              "</div>\n",
              "      <button class=\"colab-df-convert\" onclick=\"convertToInteractive('df-6cc44d24-e72d-4684-b29f-e055f7141204')\"\n",
              "              title=\"Convert this dataframe to an interactive table.\"\n",
              "              style=\"display:none;\">\n",
              "        \n",
              "  <svg xmlns=\"http://www.w3.org/2000/svg\" height=\"24px\"viewBox=\"0 0 24 24\"\n",
              "       width=\"24px\">\n",
              "    <path d=\"M0 0h24v24H0V0z\" fill=\"none\"/>\n",
              "    <path d=\"M18.56 5.44l.94 2.06.94-2.06 2.06-.94-2.06-.94-.94-2.06-.94 2.06-2.06.94zm-11 1L8.5 8.5l.94-2.06 2.06-.94-2.06-.94L8.5 2.5l-.94 2.06-2.06.94zm10 10l.94 2.06.94-2.06 2.06-.94-2.06-.94-.94-2.06-.94 2.06-2.06.94z\"/><path d=\"M17.41 7.96l-1.37-1.37c-.4-.4-.92-.59-1.43-.59-.52 0-1.04.2-1.43.59L10.3 9.45l-7.72 7.72c-.78.78-.78 2.05 0 2.83L4 21.41c.39.39.9.59 1.41.59.51 0 1.02-.2 1.41-.59l7.78-7.78 2.81-2.81c.8-.78.8-2.07 0-2.86zM5.41 20L4 18.59l7.72-7.72 1.47 1.35L5.41 20z\"/>\n",
              "  </svg>\n",
              "      </button>\n",
              "      \n",
              "  <style>\n",
              "    .colab-df-container {\n",
              "      display:flex;\n",
              "      flex-wrap:wrap;\n",
              "      gap: 12px;\n",
              "    }\n",
              "\n",
              "    .colab-df-convert {\n",
              "      background-color: #E8F0FE;\n",
              "      border: none;\n",
              "      border-radius: 50%;\n",
              "      cursor: pointer;\n",
              "      display: none;\n",
              "      fill: #1967D2;\n",
              "      height: 32px;\n",
              "      padding: 0 0 0 0;\n",
              "      width: 32px;\n",
              "    }\n",
              "\n",
              "    .colab-df-convert:hover {\n",
              "      background-color: #E2EBFA;\n",
              "      box-shadow: 0px 1px 2px rgba(60, 64, 67, 0.3), 0px 1px 3px 1px rgba(60, 64, 67, 0.15);\n",
              "      fill: #174EA6;\n",
              "    }\n",
              "\n",
              "    [theme=dark] .colab-df-convert {\n",
              "      background-color: #3B4455;\n",
              "      fill: #D2E3FC;\n",
              "    }\n",
              "\n",
              "    [theme=dark] .colab-df-convert:hover {\n",
              "      background-color: #434B5C;\n",
              "      box-shadow: 0px 1px 3px 1px rgba(0, 0, 0, 0.15);\n",
              "      filter: drop-shadow(0px 1px 2px rgba(0, 0, 0, 0.3));\n",
              "      fill: #FFFFFF;\n",
              "    }\n",
              "  </style>\n",
              "\n",
              "      <script>\n",
              "        const buttonEl =\n",
              "          document.querySelector('#df-6cc44d24-e72d-4684-b29f-e055f7141204 button.colab-df-convert');\n",
              "        buttonEl.style.display =\n",
              "          google.colab.kernel.accessAllowed ? 'block' : 'none';\n",
              "\n",
              "        async function convertToInteractive(key) {\n",
              "          const element = document.querySelector('#df-6cc44d24-e72d-4684-b29f-e055f7141204');\n",
              "          const dataTable =\n",
              "            await google.colab.kernel.invokeFunction('convertToInteractive',\n",
              "                                                     [key], {});\n",
              "          if (!dataTable) return;\n",
              "\n",
              "          const docLinkHtml = 'Like what you see? Visit the ' +\n",
              "            '<a target=\"_blank\" href=https://colab.research.google.com/notebooks/data_table.ipynb>data table notebook</a>'\n",
              "            + ' to learn more about interactive tables.';\n",
              "          element.innerHTML = '';\n",
              "          dataTable['output_type'] = 'display_data';\n",
              "          await google.colab.output.renderOutput(dataTable, element);\n",
              "          const docLink = document.createElement('div');\n",
              "          docLink.innerHTML = docLinkHtml;\n",
              "          element.appendChild(docLink);\n",
              "        }\n",
              "      </script>\n",
              "    </div>\n",
              "  </div>\n",
              "  "
            ]
          },
          "metadata": {},
          "execution_count": 15
        }
      ]
    },
    {
      "cell_type": "markdown",
      "metadata": {
        "id": "v50au5ftjMDq"
      },
      "source": [
        "**Inference**<br/>\n",
        "We can observe from the analysis that customers who have a new vehicle are less interested than customers who have a car which is more than 1-2 years old or more than two years. To sell the most insurance, the company should focus on consumers with older vehicles rather than new ones. This may be explained by people wanting to switch auto insurance after some years to get a better premium\n"
      ],
      "id": "v50au5ftjMDq"
    },
    {
      "cell_type": "markdown",
      "metadata": {
        "id": "d9hlNd_p_lok"
      },
      "source": [
        "***Which customers would be willing to buy insurance based on annual premium paid for health insurance? Do customers who have more expensive premium are more likely to purchase vehicle insurance?***\n",
        "\n",
        "To visualize we bin the annual premium into 5 bins, each specifying the range of the amount paid in the annual premium for the health insurance.\n",
        "The distribution of annual premium paid in USD($) is as follows:\n",
        "\n",
        "* Premium <  13,000\n",
        "\n",
        "* 13,000 < Premium < 26,000\n",
        "\n",
        "* 26,000 < Premium <  39,000\n",
        "\n",
        "* 39,000 < Premium <  52,000\n",
        "\n",
        "* Premium >  52,000\n"
      ],
      "id": "d9hlNd_p_lok"
    },
    {
      "cell_type": "code",
      "metadata": {
        "colab": {
          "base_uri": "https://localhost:8080/",
          "height": 297
        },
        "id": "XhTrd7CaXhaH",
        "outputId": "88351d31-cce2-46a3-9fd8-0d5c47a99fdb"
      },
      "source": [
        "#Splitting customers based on annual premium and analyzing their response\n",
        "\n",
        "bin_labels=['24443.6','38883.2','53322.8','67762.4','82202.0']\n",
        "train_copy_new=train_copy[['Annual_Premium','Response']].sort_values(by=['Annual_Premium'],ascending=False)\n",
        "\n",
        "# Filter out values less than 10,000\n",
        "train_copy_new=train_copy_new[train_copy_new['Annual_Premium']>10000]\n",
        "\n",
        "\n",
        "train_copy_new['Premium'] = pd.cut(train_copy_new['Annual_Premium'],5, labels=bin_labels)\n",
        "train_copy_new\n",
        "\n",
        "train_copy_new = train_copy_new.groupby('Premium')['Response'].value_counts(normalize=True)\n",
        "train_copy_new = train_copy_new.mul(100).rename('Percent').reset_index()\n",
        "\n",
        "sns.lineplot(x = 'Premium', y = 'Percent', data=train_copy_new[train_copy_new['Response']==1], hue='Response')"
      ],
      "id": "XhTrd7CaXhaH",
      "execution_count": 16,
      "outputs": [
        {
          "output_type": "execute_result",
          "data": {
            "text/plain": [
              "<matplotlib.axes._subplots.AxesSubplot at 0x7f76d4251210>"
            ]
          },
          "metadata": {},
          "execution_count": 16
        },
        {
          "output_type": "display_data",
          "data": {
            "text/plain": [
              "<Figure size 432x288 with 1 Axes>"
            ],
            "image/png": "[encoded data removed]"
          },
          "metadata": {
            "needs_background": "light"
          }
        }
      ]
    },
    {
      "cell_type": "markdown",
      "metadata": {
        "id": "rxQcQFsh4Kxo"
      },
      "source": [
        "**Inference**\n",
        "\n",
        "There is a linear relationship between annual premium and customer willingness to buy our vehicle insurance. We should target customers who pay a higher premium for their health insurance as they are more inclined to buy our vehicle insurance. This may be either because they are well off or because they are risk averse hence tend to buy insurance. "
      ],
      "id": "rxQcQFsh4Kxo"
    },
    {
      "cell_type": "markdown",
      "metadata": {
        "id": "1Qc4HQm-75FA"
      },
      "source": [
        "### **Pre-processing data for building a classification model**"
      ],
      "id": "1Qc4HQm-75FA"
    },
    {
      "cell_type": "markdown",
      "metadata": {
        "id": "VrnaXsUf8MeP"
      },
      "source": [
        "We need to process the data before using it to build the model. The steps to process the data are:\n",
        "\n",
        "\n",
        "1.  Converting categorical variables to numerical variables\n",
        "2.  Scaling the numerical variables\n",
        "3.  Using sampling techniques to balance the dataset\n",
        "4.  Identify variables with high multicollinearity using variance inflation factor\n",
        "\n",
        "\n"
      ],
      "id": "VrnaXsUf8MeP"
    },
    {
      "cell_type": "markdown",
      "metadata": {
        "id": "s45zQEnV9i_Z"
      },
      "source": [
        "**Converting categorical variables to numerical values**"
      ],
      "id": "s45zQEnV9i_Z"
    },
    {
      "cell_type": "markdown",
      "metadata": {
        "id": "rMVkwAfX_7Av"
      },
      "source": [
        "Since the model cannot evaluate text data type, we convert the categorical variables to numerical values"
      ],
      "id": "rMVkwAfX_7Av"
    },
    {
      "cell_type": "code",
      "metadata": {
        "id": "8939c7ba"
      },
      "source": [
        "# Converting categorical variables into numerical variables\n",
        "replace_map = {'Gender': {'Male': 1, 'Female': 0},'Vehicle_Age': {'> 2 Years': 2,'1-2 Year': 1,'< 1 Year':0},'Vehicle_Damage': {'Yes':1,'No':0}}\n",
        "train_copy.replace(replace_map,inplace=True)"
      ],
      "id": "8939c7ba",
      "execution_count": 17,
      "outputs": []
    },
    {
      "cell_type": "code",
      "metadata": {
        "id": "z4idDlO32iyx"
      },
      "source": [
        "# Create lists of column names for numeric variables and categorical variables\n",
        "numerical_datacolumns = ['Age','Annual_Premium','Vintage']\n",
        "categorical_datacolumns = ['Gender','Vehicle_Age','Vehicle_Damage', 'Region_Code', 'Policy_Sales_Channel', 'Previously_Insured', 'Driving_License', 'Response']"
      ],
      "id": "z4idDlO32iyx",
      "execution_count": 18,
      "outputs": []
    },
    {
      "cell_type": "code",
      "metadata": {
        "colab": {
          "base_uri": "https://localhost:8080/"
        },
        "id": "c-BoBUo8wHZJ",
        "outputId": "6fd75244-fa28-4eaf-fd51-fd931e5de338"
      },
      "source": [
        "# Shows data type for each categorical variable\n",
        "for column_name in categorical_datacolumns:\n",
        "     print(f'{column_name} data type: {type(train_copy[column_name].iloc[0])}')"
      ],
      "id": "c-BoBUo8wHZJ",
      "execution_count": 19,
      "outputs": [
        {
          "output_type": "stream",
          "name": "stdout",
          "text": [
            "Gender data type: <class 'numpy.int64'>\n",
            "Vehicle_Age data type: <class 'numpy.int64'>\n",
            "Vehicle_Damage data type: <class 'numpy.int64'>\n",
            "Region_Code data type: <class 'numpy.float64'>\n",
            "Policy_Sales_Channel data type: <class 'numpy.float64'>\n",
            "Previously_Insured data type: <class 'numpy.int64'>\n",
            "Driving_License data type: <class 'numpy.int64'>\n",
            "Response data type: <class 'numpy.int64'>\n"
          ]
        }
      ]
    },
    {
      "cell_type": "code",
      "metadata": {
        "colab": {
          "base_uri": "https://localhost:8080/"
        },
        "id": "6c1FW8t9zDKa",
        "outputId": "09d12882-38db-4f42-bc4a-5aed6d1a1aaa"
      },
      "source": [
        "# Convert categorical variables from numeric\n",
        "for column_name in categorical_datacolumns:\n",
        "   train_copy[column_name] = train_copy[column_name].astype('category',copy=False)\n",
        "   print(f'{column_name} data type: {train_copy[column_name].dtypes}')"
      ],
      "id": "6c1FW8t9zDKa",
      "execution_count": 20,
      "outputs": [
        {
          "output_type": "stream",
          "name": "stdout",
          "text": [
            "Gender data type: category\n",
            "Vehicle_Age data type: category\n",
            "Vehicle_Damage data type: category\n",
            "Region_Code data type: category\n",
            "Policy_Sales_Channel data type: category\n",
            "Previously_Insured data type: category\n",
            "Driving_License data type: category\n",
            "Response data type: category\n"
          ]
        }
      ]
    },
    {
      "cell_type": "markdown",
      "metadata": {
        "id": "Mj2UqjfX9pUm"
      },
      "source": [
        "**Scaling the numerical variables**"
      ],
      "id": "Mj2UqjfX9pUm"
    },
    {
      "cell_type": "markdown",
      "metadata": {
        "id": "10nCf6Gk9sGZ"
      },
      "source": [
        "Many machine learning algorithms perform better or converge faster when features are on a relatively similar scale and/or close to normally distributed. StandardScaler is a go-to algorithm in the industry.\n",
        "StandardScaler standardizes a feature by subtracting the mean and then scaling to unit variance.\n",
        "StandardScaler results in a distribution with a standard deviation equal to 1. StandardScaler makes the mean of the distribution 0. About 68% of the values will lie be between -1 and 1."
      ],
      "id": "10nCf6Gk9sGZ"
    },
    {
      "cell_type": "code",
      "metadata": {
        "colab": {
          "base_uri": "https://localhost:8080/",
          "height": 238
        },
        "id": "5Xw8-r6c1rls",
        "outputId": "417a1203-7082-4564-a890-366c6540f1dc"
      },
      "source": [
        "# Scaling all the numerical variable to convert them to standard normal form \n",
        "scl = StandardScaler()\n",
        "train_copy[['Age','Annual_Premium','Vintage']] = pd.DataFrame(scl.fit_transform(train_copy[['Age','Annual_Premium','Vintage']]))\n",
        "train_copy.head()"
      ],
      "id": "5Xw8-r6c1rls",
      "execution_count": null,
      "outputs": [
        {
          "data": {
            "text/html": [
              "<div>\n",
              "<style scoped>\n",
              "    .dataframe tbody tr th:only-of-type {\n",
              "        vertical-align: middle;\n",
              "    }\n",
              "\n",
              "    .dataframe tbody tr th {\n",
              "        vertical-align: top;\n",
              "    }\n",
              "\n",
              "    .dataframe thead th {\n",
              "        text-align: right;\n",
              "    }\n",
              "</style>\n",
              "<table border=\"1\" class=\"dataframe\">\n",
              "  <thead>\n",
              "    <tr style=\"text-align: right;\">\n",
              "      <th></th>\n",
              "      <th>Gender</th>\n",
              "      <th>Age</th>\n",
              "      <th>Driving_License</th>\n",
              "      <th>Region_Code</th>\n",
              "      <th>Previously_Insured</th>\n",
              "      <th>Vehicle_Age</th>\n",
              "      <th>Vehicle_Damage</th>\n",
              "      <th>Annual_Premium</th>\n",
              "      <th>Policy_Sales_Channel</th>\n",
              "      <th>Vintage</th>\n",
              "      <th>Response</th>\n",
              "    </tr>\n",
              "    <tr>\n",
              "      <th>id</th>\n",
              "      <th></th>\n",
              "      <th></th>\n",
              "      <th></th>\n",
              "      <th></th>\n",
              "      <th></th>\n",
              "      <th></th>\n",
              "      <th></th>\n",
              "      <th></th>\n",
              "      <th></th>\n",
              "      <th></th>\n",
              "      <th></th>\n",
              "    </tr>\n",
              "  </thead>\n",
              "  <tbody>\n",
              "    <tr>\n",
              "      <th>1</th>\n",
              "      <td>1</td>\n",
              "      <td>2.400284</td>\n",
              "      <td>1</td>\n",
              "      <td>28.0</td>\n",
              "      <td>0</td>\n",
              "      <td>2</td>\n",
              "      <td>1</td>\n",
              "      <td>0.217472</td>\n",
              "      <td>26.0</td>\n",
              "      <td>0.342402</td>\n",
              "      <td>1</td>\n",
              "    </tr>\n",
              "    <tr>\n",
              "      <th>2</th>\n",
              "      <td>1</td>\n",
              "      <td>0.529162</td>\n",
              "      <td>1</td>\n",
              "      <td>3.0</td>\n",
              "      <td>0</td>\n",
              "      <td>1</td>\n",
              "      <td>0</td>\n",
              "      <td>0.520613</td>\n",
              "      <td>26.0</td>\n",
              "      <td>-1.522069</td>\n",
              "      <td>0</td>\n",
              "    </tr>\n",
              "    <tr>\n",
              "      <th>3</th>\n",
              "      <td>1</td>\n",
              "      <td>-1.148396</td>\n",
              "      <td>1</td>\n",
              "      <td>28.0</td>\n",
              "      <td>0</td>\n",
              "      <td>2</td>\n",
              "      <td>1</td>\n",
              "      <td>-0.095799</td>\n",
              "      <td>26.0</td>\n",
              "      <td>0.581437</td>\n",
              "      <td>1</td>\n",
              "    </tr>\n",
              "    <tr>\n",
              "      <th>4</th>\n",
              "      <td>1</td>\n",
              "      <td>-0.632224</td>\n",
              "      <td>1</td>\n",
              "      <td>11.0</td>\n",
              "      <td>1</td>\n",
              "      <td>0</td>\n",
              "      <td>0</td>\n",
              "      <td>-0.167348</td>\n",
              "      <td>152.0</td>\n",
              "      <td>-1.378648</td>\n",
              "      <td>0</td>\n",
              "    </tr>\n",
              "    <tr>\n",
              "      <th>5</th>\n",
              "      <td>0</td>\n",
              "      <td>-0.954831</td>\n",
              "      <td>1</td>\n",
              "      <td>41.0</td>\n",
              "      <td>1</td>\n",
              "      <td>0</td>\n",
              "      <td>0</td>\n",
              "      <td>-1.751606</td>\n",
              "      <td>152.0</td>\n",
              "      <td>0.258740</td>\n",
              "      <td>0</td>\n",
              "    </tr>\n",
              "  </tbody>\n",
              "</table>\n",
              "</div>"
            ],
            "text/plain": [
              "   Gender       Age Driving_License  ... Policy_Sales_Channel   Vintage Response\n",
              "id                                   ...                                        \n",
              "1       1  2.400284               1  ...                 26.0  0.342402        1\n",
              "2       1  0.529162               1  ...                 26.0 -1.522069        0\n",
              "3       1 -1.148396               1  ...                 26.0  0.581437        1\n",
              "4       1 -0.632224               1  ...                152.0 -1.378648        0\n",
              "5       0 -0.954831               1  ...                152.0  0.258740        0\n",
              "\n",
              "[5 rows x 11 columns]"
            ]
          },
          "execution_count": 80,
          "metadata": {},
          "output_type": "execute_result"
        }
      ]
    },
    {
      "cell_type": "code",
      "metadata": {
        "colab": {
          "base_uri": "https://localhost:8080/"
        },
        "id": "-t3teprQpwhc",
        "outputId": "346de841-0e6f-4d6e-95cf-27030fad2c37"
      },
      "source": [
        "# Null values check\n",
        "train_copy.dropna(inplace=True)\n",
        "train_copy.isnull().sum()"
      ],
      "id": "-t3teprQpwhc",
      "execution_count": null,
      "outputs": [
        {
          "data": {
            "text/plain": [
              "Gender                  0\n",
              "Age                     0\n",
              "Driving_License         0\n",
              "Region_Code             0\n",
              "Previously_Insured      0\n",
              "Vehicle_Age             0\n",
              "Vehicle_Damage          0\n",
              "Annual_Premium          0\n",
              "Policy_Sales_Channel    0\n",
              "Vintage                 0\n",
              "Response                0\n",
              "dtype: int64"
            ]
          },
          "execution_count": 81,
          "metadata": {},
          "output_type": "execute_result"
        }
      ]
    },
    {
      "cell_type": "markdown",
      "metadata": {
        "id": "MpiMLW7HAbOh"
      },
      "source": [
        "**Balancing the dataset**"
      ],
      "id": "MpiMLW7HAbOh"
    },
    {
      "cell_type": "markdown",
      "metadata": {
        "id": "iXayDXECAmRS"
      },
      "source": [
        "Oversampling involves introducing a bias to select more samples from one class than from another, to compensate for an imbalance that is already present in the data usually, under-representation of one class in the outcome (dependent) variable. In our case, we need to introduce more cases with the response variable as 1 using random oversampling. Random Oversampling involves supplementing the training data with multiple copies of some of the minority classes. This is one of the earliest proposed methods, that is also proven to be robust. Instead of duplicating every sample in the minority class, some of them may be randomly chosen with replacement.\n",
        "\n"
      ],
      "id": "iXayDXECAmRS"
    },
    {
      "cell_type": "code",
      "metadata": {
        "colab": {
          "base_uri": "https://localhost:8080/",
          "height": 206
        },
        "id": "jEKFSUvE1xLd",
        "outputId": "16aa62cc-63fe-4283-ed52-496bf45e2abc"
      },
      "source": [
        "# Repopulating the dependent variable to prevent bias to a particular output\n",
        "res_0 = train_copy[train_copy['Response']==0]\n",
        "res_1 = train_copy[train_copy['Response']==1]\n",
        "# Random sampling to ensure that number of records with response 1 is atleast 50% of those with response 0\n",
        "res_1=res_1.sample(math.floor(res_0.shape[0]*0.5),replace=True)\n",
        "\n",
        "# Concat the 2 dataframes\n",
        "train_copy = pd.concat([res_0,res_1])\n",
        "train_copy.reset_index(inplace=True)\n",
        "# Set id as index\n",
        "train_copy['id']= [x for x in range(1,res_0.shape[0]+res_1.shape[0]+1)]\n",
        "train_copy.set_index(['id'])\n",
        "train_copy.head()"
      ],
      "id": "jEKFSUvE1xLd",
      "execution_count": null,
      "outputs": [
        {
          "data": {
            "text/html": [
              "<div>\n",
              "<style scoped>\n",
              "    .dataframe tbody tr th:only-of-type {\n",
              "        vertical-align: middle;\n",
              "    }\n",
              "\n",
              "    .dataframe tbody tr th {\n",
              "        vertical-align: top;\n",
              "    }\n",
              "\n",
              "    .dataframe thead th {\n",
              "        text-align: right;\n",
              "    }\n",
              "</style>\n",
              "<table border=\"1\" class=\"dataframe\">\n",
              "  <thead>\n",
              "    <tr style=\"text-align: right;\">\n",
              "      <th></th>\n",
              "      <th>id</th>\n",
              "      <th>Gender</th>\n",
              "      <th>Age</th>\n",
              "      <th>Driving_License</th>\n",
              "      <th>Region_Code</th>\n",
              "      <th>Previously_Insured</th>\n",
              "      <th>Vehicle_Age</th>\n",
              "      <th>Vehicle_Damage</th>\n",
              "      <th>Annual_Premium</th>\n",
              "      <th>Policy_Sales_Channel</th>\n",
              "      <th>Vintage</th>\n",
              "      <th>Response</th>\n",
              "    </tr>\n",
              "  </thead>\n",
              "  <tbody>\n",
              "    <tr>\n",
              "      <th>0</th>\n",
              "      <td>1</td>\n",
              "      <td>1</td>\n",
              "      <td>0.529162</td>\n",
              "      <td>1</td>\n",
              "      <td>3.0</td>\n",
              "      <td>0</td>\n",
              "      <td>1</td>\n",
              "      <td>0</td>\n",
              "      <td>0.520613</td>\n",
              "      <td>26.0</td>\n",
              "      <td>-1.522069</td>\n",
              "      <td>0</td>\n",
              "    </tr>\n",
              "    <tr>\n",
              "      <th>1</th>\n",
              "      <td>2</td>\n",
              "      <td>1</td>\n",
              "      <td>-0.632224</td>\n",
              "      <td>1</td>\n",
              "      <td>11.0</td>\n",
              "      <td>1</td>\n",
              "      <td>0</td>\n",
              "      <td>0</td>\n",
              "      <td>-0.167348</td>\n",
              "      <td>152.0</td>\n",
              "      <td>-1.378648</td>\n",
              "      <td>0</td>\n",
              "    </tr>\n",
              "    <tr>\n",
              "      <th>2</th>\n",
              "      <td>3</td>\n",
              "      <td>0</td>\n",
              "      <td>-0.954831</td>\n",
              "      <td>1</td>\n",
              "      <td>41.0</td>\n",
              "      <td>1</td>\n",
              "      <td>0</td>\n",
              "      <td>0</td>\n",
              "      <td>-1.751606</td>\n",
              "      <td>152.0</td>\n",
              "      <td>0.258740</td>\n",
              "      <td>0</td>\n",
              "    </tr>\n",
              "    <tr>\n",
              "      <th>3</th>\n",
              "      <td>4</td>\n",
              "      <td>0</td>\n",
              "      <td>-1.019353</td>\n",
              "      <td>1</td>\n",
              "      <td>33.0</td>\n",
              "      <td>0</td>\n",
              "      <td>0</td>\n",
              "      <td>1</td>\n",
              "      <td>-0.430414</td>\n",
              "      <td>160.0</td>\n",
              "      <td>1.131216</td>\n",
              "      <td>0</td>\n",
              "    </tr>\n",
              "    <tr>\n",
              "      <th>4</th>\n",
              "      <td>5</td>\n",
              "      <td>1</td>\n",
              "      <td>1.109855</td>\n",
              "      <td>1</td>\n",
              "      <td>11.0</td>\n",
              "      <td>0</td>\n",
              "      <td>0</td>\n",
              "      <td>1</td>\n",
              "      <td>0.121586</td>\n",
              "      <td>152.0</td>\n",
              "      <td>-0.984241</td>\n",
              "      <td>0</td>\n",
              "    </tr>\n",
              "  </tbody>\n",
              "</table>\n",
              "</div>"
            ],
            "text/plain": [
              "   id Gender       Age  ... Policy_Sales_Channel   Vintage Response\n",
              "0   1      1  0.529162  ...                 26.0 -1.522069        0\n",
              "1   2      1 -0.632224  ...                152.0 -1.378648        0\n",
              "2   3      0 -0.954831  ...                152.0  0.258740        0\n",
              "3   4      0 -1.019353  ...                160.0  1.131216        0\n",
              "4   5      1  1.109855  ...                152.0 -0.984241        0\n",
              "\n",
              "[5 rows x 12 columns]"
            ]
          },
          "execution_count": 82,
          "metadata": {},
          "output_type": "execute_result"
        }
      ]
    },
    {
      "cell_type": "markdown",
      "metadata": {
        "id": "8j4Q4KqVDGn2"
      },
      "source": [
        "**Multicollinearity using variance inflation factor**"
      ],
      "id": "8j4Q4KqVDGn2"
    },
    {
      "cell_type": "markdown",
      "metadata": {
        "id": "9c7lKrYxDo4u"
      },
      "source": [
        "Multicollinearity generally occurs when there are high correlations between two or more predictor variables. In other words, one predictor variable can be used to predict the other. This creates redundant information, skewing the results in a regression model. \n",
        "\n",
        "Variance inflation factor (VIF) is a measure of the amount of multicollinearity in a set of multiple regression variables. Mathematically, the VIF for a regression model variable is equal to the ratio of the overall model variance to the variance of a model that includes only that single independent variable. This ratio is calculated for each independent variable. A high VIF indicates that the associated independent variable is highly collinear with the other variables in the model."
      ],
      "id": "9c7lKrYxDo4u"
    },
    {
      "cell_type": "code",
      "metadata": {
        "colab": {
          "base_uri": "https://localhost:8080/"
        },
        "id": "G3-a8TP9y88Z",
        "outputId": "ca3cb139-fe12-4172-e2ef-915c1169ee4a"
      },
      "source": [
        "# Identify multicollinearity between two variables based on VIF(Variance Inflation Factor)\n",
        "# the independent variables set (excluding categorical variables)\n",
        "X = train_copy[['Age','Annual_Premium','Vintage','Gender','Vehicle_Age','Vehicle_Damage',\n",
        "          'Region_Code', 'Policy_Sales_Channel', 'Previously_Insured', 'Driving_License', 'Response']]\n",
        "\n",
        "# VIF dataframe\n",
        "vif_data = pd.DataFrame()\n",
        "vif_data[\"feature\"] = X.columns\n",
        " \n",
        "# calculating VIF for each feature\n",
        "vif_data[\"VIF\"] = [variance_inflation_factor(X.values, i) for i in range(len(X.columns))]\n",
        "  \n",
        "print(vif_data)"
      ],
      "id": "G3-a8TP9y88Z",
      "execution_count": null,
      "outputs": [
        {
          "name": "stdout",
          "output_type": "stream",
          "text": [
            "                 feature        VIF\n",
            "0                    Age   1.004905\n",
            "1         Annual_Premium   1.004906\n",
            "2                Vintage   1.000045\n",
            "3                 Gender   2.313739\n",
            "4            Vehicle_Age   3.899443\n",
            "5         Vehicle_Damage   9.550068\n",
            "6            Region_Code   5.168702\n",
            "7   Policy_Sales_Channel   6.460035\n",
            "8     Previously_Insured   5.426999\n",
            "9        Driving_License  28.285045\n",
            "10              Response   2.149104\n"
          ]
        }
      ]
    },
    {
      "cell_type": "markdown",
      "metadata": {
        "id": "xOa96aMrDRWj"
      },
      "source": [
        "The variable Driving_License has high VIF value. Since including this variable will cause the model to have high multicollinearity, we should not include this in the final model."
      ],
      "id": "xOa96aMrDRWj"
    },
    {
      "cell_type": "code",
      "metadata": {
        "colab": {
          "base_uri": "https://localhost:8080/"
        },
        "id": "gig5VvFQ5LUW",
        "outputId": "01b9e4b4-868d-4a25-eb9a-e0bc46e8c86b"
      },
      "source": [
        "# Remove variables with high multicollinearity from training set\n",
        "train_copy.drop(['Driving_License'], axis=1,inplace=True)\n",
        "train_copy.columns"
      ],
      "id": "gig5VvFQ5LUW",
      "execution_count": null,
      "outputs": [
        {
          "data": {
            "text/plain": [
              "Index(['id', 'Gender', 'Age', 'Region_Code', 'Previously_Insured',\n",
              "       'Vehicle_Age', 'Vehicle_Damage', 'Annual_Premium',\n",
              "       'Policy_Sales_Channel', 'Vintage', 'Response'],\n",
              "      dtype='object')"
            ]
          },
          "execution_count": 84,
          "metadata": {},
          "output_type": "execute_result"
        }
      ]
    },
    {
      "cell_type": "code",
      "metadata": {
        "id": "z4HUbF-V2UMC"
      },
      "source": [
        "#Splitting the dataset into train and test in the ratio 70:30 \n",
        "X_train,X_test, y_train, y_test = train_test_split(train_copy.drop(['Response','id'],axis=1),train_copy['Response'],test_size=0.3,random_state=20)"
      ],
      "id": "z4HUbF-V2UMC",
      "execution_count": null,
      "outputs": []
    },
    {
      "cell_type": "markdown",
      "metadata": {
        "id": "LQAucGtV7E-y"
      },
      "source": [
        "**Feature Importance**"
      ],
      "id": "LQAucGtV7E-y"
    },
    {
      "cell_type": "markdown",
      "metadata": {
        "id": "7FoydR0y7GQA"
      },
      "source": [
        "Feature Importance assigns the score of input features based on their importance to predict the output. More the features will be responsible to predict the output more will be their score. We can use it in both classification and regression problem. It calculates relative importance score independent of model used. Additonally, Feature importance gives us better interpretability of data."
      ],
      "id": "7FoydR0y7GQA"
    },
    {
      "cell_type": "code",
      "metadata": {
        "colab": {
          "base_uri": "https://localhost:8080/",
          "height": 332
        },
        "id": "2Sox2YDWIm7x",
        "outputId": "2aff215f-328d-4c44-9c35-d940adb31ece"
      },
      "source": [
        "## Feature importance\n",
        "feature_names = [f\"feature {i}\" for i in range(X_train.shape[1])]\n",
        "# Use Random forest classifier \n",
        "clf = RandomForestClassifier(n_estimators=20, random_state=100)\n",
        "clf.fit(X_train,y_train)\n",
        "importances = clf.feature_importances_\n",
        "forest_importances = pd.Series(importances, index=feature_names)\n",
        "imp = pd.DataFrame(X_train.columns, clf.feature_importances_*100, columns=['Variables'])\n",
        "imp"
      ],
      "id": "2Sox2YDWIm7x",
      "execution_count": null,
      "outputs": [
        {
          "data": {
            "text/html": [
              "<div>\n",
              "<style scoped>\n",
              "    .dataframe tbody tr th:only-of-type {\n",
              "        vertical-align: middle;\n",
              "    }\n",
              "\n",
              "    .dataframe tbody tr th {\n",
              "        vertical-align: top;\n",
              "    }\n",
              "\n",
              "    .dataframe thead th {\n",
              "        text-align: right;\n",
              "    }\n",
              "</style>\n",
              "<table border=\"1\" class=\"dataframe\">\n",
              "  <thead>\n",
              "    <tr style=\"text-align: right;\">\n",
              "      <th></th>\n",
              "      <th>Variables</th>\n",
              "    </tr>\n",
              "  </thead>\n",
              "  <tbody>\n",
              "    <tr>\n",
              "      <th>0.817670</th>\n",
              "      <td>Gender</td>\n",
              "    </tr>\n",
              "    <tr>\n",
              "      <th>14.353059</th>\n",
              "      <td>Age</td>\n",
              "    </tr>\n",
              "    <tr>\n",
              "      <th>7.407608</th>\n",
              "      <td>Region_Code</td>\n",
              "    </tr>\n",
              "    <tr>\n",
              "      <th>14.105797</th>\n",
              "      <td>Previously_Insured</td>\n",
              "    </tr>\n",
              "    <tr>\n",
              "      <th>2.021629</th>\n",
              "      <td>Vehicle_Age</td>\n",
              "    </tr>\n",
              "    <tr>\n",
              "      <th>15.105050</th>\n",
              "      <td>Vehicle_Damage</td>\n",
              "    </tr>\n",
              "    <tr>\n",
              "      <th>19.875317</th>\n",
              "      <td>Annual_Premium</td>\n",
              "    </tr>\n",
              "    <tr>\n",
              "      <th>5.492238</th>\n",
              "      <td>Policy_Sales_Channel</td>\n",
              "    </tr>\n",
              "    <tr>\n",
              "      <th>20.821631</th>\n",
              "      <td>Vintage</td>\n",
              "    </tr>\n",
              "  </tbody>\n",
              "</table>\n",
              "</div>"
            ],
            "text/plain": [
              "                      Variables\n",
              "0.817670                 Gender\n",
              "14.353059                   Age\n",
              "7.407608            Region_Code\n",
              "14.105797    Previously_Insured\n",
              "2.021629            Vehicle_Age\n",
              "15.105050        Vehicle_Damage\n",
              "19.875317        Annual_Premium\n",
              "5.492238   Policy_Sales_Channel\n",
              "20.821631               Vintage"
            ]
          },
          "execution_count": 86,
          "metadata": {},
          "output_type": "execute_result"
        }
      ]
    },
    {
      "cell_type": "markdown",
      "metadata": {
        "id": "Y39xYcBE7Llg"
      },
      "source": [
        "**Feature Selection**"
      ],
      "id": "Y39xYcBE7Llg"
    },
    {
      "cell_type": "markdown",
      "metadata": {
        "id": "N5isV0le7Nie"
      },
      "source": [
        "Using Feature Selection, When presented data with very high dimensionality, models usually choke because: \n",
        "Training time increases exponentially with number of features.\n",
        "\n",
        "*   Models have increasing risk of overfitting with increasing number of features.\n",
        "*   Feature Selection methods helps with these problems by reducing the dimensions without much loss of the total information. \n",
        "\n",
        "It also helps to make sense of the features and its importance.\n",
        "\n",
        "**Backward Regression:** In backward regression, we start with all the features and removes the least significant feature at each iteration which improves the performance of the model. We repeat this until no improvement is observed on removal of features."
      ],
      "id": "N5isV0le7Nie"
    },
    {
      "cell_type": "code",
      "metadata": {
        "colab": {
          "base_uri": "https://localhost:8080/"
        },
        "id": "MRjHMya7InA2",
        "outputId": "e8388927-3c6c-4eee-9dd9-0563a0f2220b"
      },
      "source": [
        "## Feature selection\n",
        "def backward_regression(X, y,\n",
        "                           threshold_out,\n",
        "                           verbose=False):\n",
        "    included=list(X.columns)\n",
        "    while True:\n",
        "        changed=False\n",
        "        model = sm.OLS(y, sm.add_constant(pd.DataFrame(X[included]))).fit()\n",
        "        # use all coefs except intercept\n",
        "        pvalues = model.pvalues.iloc[1:]\n",
        "        worst_pval = pvalues.max() # null if pvalues is empty\n",
        "        if worst_pval > threshold_out:\n",
        "            changed=True\n",
        "            worst_feature = pvalues.idxmax()\n",
        "            included.remove(worst_feature)\n",
        "            if verbose:\n",
        "                print('Drop {:30} with p-value {:.6}'.format(worst_feature, worst_pval))\n",
        "        if not changed:\n",
        "            break\n",
        "    return included\n",
        "\n",
        "print(X_train.columns)\n",
        "backward_regression(X_train,y_train,0.15,verbose=True)"
      ],
      "id": "MRjHMya7InA2",
      "execution_count": null,
      "outputs": [
        {
          "name": "stdout",
          "output_type": "stream",
          "text": [
            "Index(['Gender', 'Age', 'Region_Code', 'Previously_Insured', 'Vehicle_Age',\n",
            "       'Vehicle_Damage', 'Annual_Premium', 'Policy_Sales_Channel', 'Vintage'],\n",
            "      dtype='object')\n",
            "Drop Vintage                        with p-value 0.99521\n",
            "Drop Age                            with p-value 0.864691\n",
            "Drop Annual_Premium                 with p-value 0.54612\n"
          ]
        },
        {
          "data": {
            "text/plain": [
              "['Gender',\n",
              " 'Region_Code',\n",
              " 'Previously_Insured',\n",
              " 'Vehicle_Age',\n",
              " 'Vehicle_Damage',\n",
              " 'Policy_Sales_Channel']"
            ]
          },
          "execution_count": 87,
          "metadata": {},
          "output_type": "execute_result"
        }
      ]
    },
    {
      "cell_type": "code",
      "metadata": {
        "id": "rEpE4EB0Ogo_"
      },
      "source": [
        "X_train.drop(['Age'],inplace=True,axis=1)\n",
        "X_test.drop(['Age'],inplace=True,axis=1)"
      ],
      "id": "rEpE4EB0Ogo_",
      "execution_count": null,
      "outputs": []
    },
    {
      "cell_type": "markdown",
      "metadata": {
        "id": "MbIq3fsVOdXT"
      },
      "source": [
        "### Modeling"
      ],
      "id": "MbIq3fsVOdXT"
    },
    {
      "cell_type": "markdown",
      "metadata": {
        "id": "mp15TrVw7Wb8"
      },
      "source": [
        "The process of modeling means training a machine learning algorithm to predict the labels from the features, tuning it for the business need, and validating it on holdout data. \n",
        "\n",
        "We will be using ***Logistic Regression, Linear Support Vector Classification, K Nearest Neighbors Classifier, Random Forest Classifier, Decision Tree, Gradient Boosting Classifier and Gaussian Naive Bayes classifier.*** "
      ],
      "id": "mp15TrVw7Wb8"
    },
    {
      "cell_type": "markdown",
      "metadata": {
        "id": "7qo5H9-lvjmA"
      },
      "source": [
        "* **LOGISTIC REGRESSION** - In this algorithm, the probabilities describing the \n",
        "possible outcomes of a single trial are modelled using a logistic function.\n",
        "* **SVM** - Support vector machine is a representation of the training data as points in space separated into categories by a clear gap that is as wide as possible. New examples are then mapped into that same space and predicted to belong to a category based on which side of the gap they fall.\n",
        "* **KNN** - Neighbours based classification is a type of lazy learning as it does not attempt to construct a general internal model, but simply stores instances of the training data. Classification is computed from a simple majority vote of the k nearest neighbours of each point.\n",
        "* **DECISION TREE** - Given a data of attributes together with its classes, a decision tree produces a sequence of rules that can be used to classify the data.\n",
        "* **RANDOM FOREST** - Random forest classifier is a meta-estimator that fits a number of decision trees on various sub-samples of datasets and uses average to improve the predictive accuracy of the model and controls over-fitting. The sub-sample size is always the same as the original input sample size but the samples are drawn with replacement.\n",
        "* **GRADIENT BOOSTING** - It gives a prediction model in the form of an ensemble of weak prediction models, which are typically decision trees.\n",
        "* **GAUSSIAN NAIVE BAYES** - Naive Bayes is a classification technique based on the Bayes theorem. It is a simple but powerful algorithm for predictive modeling under supervised learning algorithms. Gaussian NB is a variant of Naive Bayes which supports continuous values and has an assumption that each class is normally distributed. "
      ],
      "id": "7qo5H9-lvjmA"
    },
    {
      "cell_type": "code",
      "metadata": {
        "id": "j67P9vfZXhen"
      },
      "source": [
        "def run_all(X_train, X_test, y_train, y_test):\n",
        "   # initialize models \n",
        "    models = [LogisticRegression(),\n",
        "              LinearSVC(),\n",
        "              KNeighborsClassifier(n_neighbors=10),\n",
        "              RandomForestClassifier(n_estimators=10, max_depth=6,min_samples_split=100, min_samples_leaf=10, random_state=110),\n",
        "              DecisionTreeClassifier(min_samples_split=100, min_samples_leaf=10, random_state=110, max_depth=6),\n",
        "              GradientBoostingClassifier(),\n",
        "              GaussianNB()\n",
        "             ]\n",
        "    model_names=['LogisticRegression',\n",
        "                 'LinearSVM',\n",
        "                 'KNearestNeighbors',\n",
        "                 'RandomForestClassifier',\n",
        "                 'DecisionTree',\n",
        "                 'GradientBoostingClassifier',\n",
        "                 'GaussianNB'\n",
        "                ]\n",
        "\n",
        "    acc = []\n",
        "    pre = []\n",
        "    rec = []\n",
        "    f1 = []\n",
        "    roc_auc = []\n",
        "\n",
        "    d = {}\n",
        "    # Evaluate the accuarcy, precision, recall, F1 score and ROC-AUC for each model\n",
        "    for model in range(len(models)):\n",
        "        clf=models[model]\n",
        "        clf.fit(X_train,y_train)\n",
        "        pred=clf.predict(X_test)\n",
        "        acc.append(accuracy_score(y_test,pred))\n",
        "        pre.append(precision_score(y_test,pred))\n",
        "        rec.append(recall_score(y_test,pred))\n",
        "        f1.append(f1_score(y_test,pred))\n",
        "        roc_auc.append(roc_auc_score(y_test,pred))\n",
        "\n",
        "    # Collate all model outputs into one dictionary\n",
        "    d={'Modelling Algorithm':model_names,'Accuracy':acc, 'Precision':pre, 'Recall':rec, 'F1 score':f1,'ROC AUC score':roc_auc}\n",
        "    print(pd.DataFrame(d))"
      ],
      "id": "j67P9vfZXhen",
      "execution_count": null,
      "outputs": []
    },
    {
      "cell_type": "code",
      "metadata": {
        "colab": {
          "background_save": true
        },
        "id": "TwUH9IvMPSKe",
        "outputId": "410b7044-b7cd-410a-b854-20ef3e3817e5"
      },
      "source": [
        "run_all(X_train, X_test, y_train, y_test)"
      ],
      "id": "TwUH9IvMPSKe",
      "execution_count": null,
      "outputs": [
        {
          "name": "stdout",
          "output_type": "stream",
          "text": [
            "          Modelling Algorithm  Accuracy  ...  F1 score  ROC AUC score\n",
            "0          LogisticRegression  0.755601  ...  0.773495       0.783777\n",
            "1                   LinearSVM  0.732978  ...  0.760480       0.765998\n",
            "2           KNearestNeighbors  0.790247  ...  0.772091       0.795542\n",
            "3      RandomForestClassifier  0.773647  ...  0.773048       0.790054\n",
            "4                DecisionTree  0.775587  ...  0.772508       0.790413\n",
            "5  GradientBoostingClassifier  0.778576  ...  0.776319       0.793980\n",
            "6                  GaussianNB  0.755601  ...  0.773495       0.783777\n",
            "\n",
            "[7 rows x 6 columns]\n"
          ]
        }
      ]
    },
    {
      "cell_type": "markdown",
      "metadata": {
        "id": "PeAQBApf7rFn"
      },
      "source": [
        "As we determine from implementing the run_all function, it is discovered that K-Nearest Neighbors Classifier has the highest accuracy. We will directly apply the hyper parameter tuning the best parameters on the KNN model as this is where we can find an improvement in a guaranteed way."
      ],
      "id": "PeAQBApf7rFn"
    },
    {
      "cell_type": "markdown",
      "metadata": {
        "id": "QFyY6I6OPffu"
      },
      "source": [
        "**Hyper parameter tuning**"
      ],
      "id": "QFyY6I6OPffu"
    },
    {
      "cell_type": "markdown",
      "metadata": {
        "id": "kC9TUgjQTNQB"
      },
      "source": [
        "In machine learning, hyperparameter tuning is the problem of choosing a set of optimal hyperparameters for a learning algorithm that maximizes accuracy to give better results.\n",
        "\n",
        "We are performing hyperparameter tuning to two of our models which performed best in initial run.\n"
      ],
      "id": "kC9TUgjQTNQB"
    },
    {
      "cell_type": "code",
      "metadata": {
        "id": "pwKdWOIaXM_Z"
      },
      "source": [
        "# Decision Tree hyper parameter tuning\n",
        "clf_dt=DecisionTreeClassifier(min_samples_split=50, min_samples_leaf=10, random_state=110)\n",
        "# Defining the parameters to be tuned \n",
        "params = {'max_depth': [2, 3, 5, 10, 15, 20],'min_samples_leaf': [5, 10, 20, 50, 100, 500],'criterion': [\"gini\", \"entropy\"]}\n",
        "# Selecting the best parameters for the Decision Tree Classifier\n",
        "clf_grid = GridSearchCV(estimator=clf_dt, param_grid=params, scoring='accuracy', cv=5, n_jobs=4)\n",
        "clf_grid.fit(X_train,y_train)\n",
        "clf_dt=clf_grid.best_estimator_\n",
        "clf_dt"
      ],
      "id": "pwKdWOIaXM_Z",
      "execution_count": null,
      "outputs": []
    },
    {
      "cell_type": "code",
      "metadata": {
        "id": "yesWnSv2XR_q"
      },
      "source": [
        "# KNN hyper parameter tuning\n",
        "clf=KNeighborsClassifier(n_neighbors=10)\n",
        "# Defining the parameters to be tuned \n",
        "params = {'n_neighbors':[5,10,15,20,25,30]}\n",
        "# Selecting the best parameters for the KNN Classifier\n",
        "clf_grid = GridSearchCV(estimator=clf, param_grid=params, scoring='accuracy', cv=5, n_jobs=4)\n",
        "clf_grid.fit(X_train,y_train)\n",
        "clf=clf_grid.best_estimator_\n",
        "clf\n"
      ],
      "id": "yesWnSv2XR_q",
      "execution_count": null,
      "outputs": []
    },
    {
      "cell_type": "code",
      "metadata": {
        "id": "c_JAVtvUTMZ1"
      },
      "source": [
        "# Creating a confusion_matrix for the final classifier\n",
        "pred=clf_dt.predict(X_test)\n",
        "cm = confusion_matrix(y_test, pred)\n",
        "plot= plt.subplot()\n",
        "sns.heatmap(cm, annot=True, ax = plot, fmt='g')\n",
        "plot.set_xlabel('Predicted Response')\n",
        "plot.set_ylabel('Actual Response')"
      ],
      "id": "c_JAVtvUTMZ1",
      "execution_count": null,
      "outputs": []
    },
    {
      "cell_type": "markdown",
      "metadata": {
        "id": "a93dda7e"
      },
      "source": [
        "## Conclusions"
      ],
      "id": "a93dda7e"
    },
    {
      "cell_type": "markdown",
      "metadata": {
        "id": "8q9lp1JWECRI"
      },
      "source": [
        "By doing this data analysis, we have a better idea about the different segments of customers’ interest in the company’s vehicle insurance policy. \n",
        "\n",
        "By analysing two categories of previously insured customers and their responses, we first determined that the company should target customers who do not have insurances. The company could come up with some promotions in order to attract new customers.\n",
        "\n",
        "We also found there are correlations between vehicle damage and customers’ interest in buying insurance. \n",
        "Moreover, vehicle_age impacts their willingness to purchase. In real life, as vehicles age increase, there are more problems with it. Customers pay more attention with the insurance. \n",
        "\n",
        "Since all the policyholders have health insurances with the company, we found the linear relationship between customers’ annual premium amount and their interest in vehicle insurance This segment of customers should also be the company’s focused market. \n",
        "\n",
        "The data analysis could help answer key business strategy questions, including \"what should the company do?\", and “what are the most important?”. These key questions help companies understand how to compete in the insurance market and how to create a competitive advantage to ensure their position in the market.\n",
        "\n",
        "The classification model is able to accurately predict which customers will be interested in purchasing the vehicle insurance. This model can be used to target customers effectively. Since cross-selling is very common in financial and retail domains, this model can be utilized for other practise areas in the industry as well with few changes."
      ],
      "id": "8q9lp1JWECRI"
    },
    {
      "cell_type": "markdown",
      "metadata": {
        "id": "AmZb9fzj-O8k"
      },
      "source": [
        "### References"
      ],
      "id": "AmZb9fzj-O8k"
    },
    {
      "cell_type": "markdown",
      "metadata": {
        "id": "LX_kkNoM-XCO"
      },
      "source": [
        "\n",
        "\n",
        "1.   https://towardsdatascience.com/scale-standardize-or-normalize-with-scikit-learn-6ccc7d176a02#:~:text=StandardScaler,-StandardScaler%20is%20the&text=StandardScaler%20standardizes%20a%20feature%20by,values%20by%20the%20standard%20deviation.\n",
        "2.   https://en.wikipedia.org/wiki/Oversampling_and_undersampling_in_data_analysis\n",
        "3. https://www.investopedia.com/terms/v/variance-inflation-factor.asp\n",
        "4. https://towardsdatascience.com/how-to-tune-a-decision-tree-f03721801680\n",
        "5. https://www.analyticsvidhya.com/blog/2021/01/gaussian-naive-bayes-with-hyperpameter-tuning/\n",
        "6. https://en.wikipedia.org/wiki/Gradient_boosting\n",
        "7. https://analyticsindiamag.com/7-types-classification-algorithms/\n",
        "\n",
        "\n"
      ],
      "id": "LX_kkNoM-XCO"
    }
  ]
}